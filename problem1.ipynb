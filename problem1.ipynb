{
  "nbformat": 4,
  "nbformat_minor": 0,
  "metadata": {
    "colab": {
      "name": "problem1.ipynb",
      "provenance": [],
      "authorship_tag": "ABX9TyPJcKDS7gcSl7j6kXP4yJnI",
      "include_colab_link": true
    },
    "kernelspec": {
      "name": "python3",
      "display_name": "Python 3"
    },
    "language_info": {
      "name": "python"
    }
  },
  "cells": [
    {
      "cell_type": "markdown",
      "metadata": {
        "id": "view-in-github",
        "colab_type": "text"
      },
      "source": [
        "<a href=\"https://colab.research.google.com/github/kgazaleh/thwnd_2000-IDS/blob/main/problem1.ipynb\" target=\"_parent\"><img src=\"https://colab.research.google.com/assets/colab-badge.svg\" alt=\"Open In Colab\"/></a>"
      ]
    },
    {
      "cell_type": "markdown",
      "source": [
        "# Problem 1 (Python)"
      ],
      "metadata": {
        "id": "mb3iqctSqG7v"
      }
    },
    {
      "cell_type": "markdown",
      "source": [
        "In this problem, you will be working with a dataset that contains instances of dermatology cancer occurrences. The dataset can be downloaded from https://datahub.io/machine-learning/dermatology#data"
      ],
      "metadata": {
        "id": "uyDzZP-aqFQ-"
      }
    },
    {
      "cell_type": "markdown",
      "source": [
        "Load the data."
      ],
      "metadata": {
        "id": "vyVt7HYbrQQ1"
      }
    },
    {
      "cell_type": "code",
      "source": [
        "import pandas as pd\n",
        "\n",
        "dermatology = pd.read_csv(\"https://raw.githubusercontent.com/kgazaleh/thwnd_2000-IDS/main/HW7/dermatology.csv\")\n",
        "dermatology"
      ],
      "metadata": {
        "colab": {
          "base_uri": "https://localhost:8080/",
          "height": 505
        },
        "id": "tRlzCU3sq-Z9",
        "outputId": "94406c2e-621d-4477-c3d0-575ed65dd6c9"
      },
      "execution_count": null,
      "outputs": [
        {
          "output_type": "execute_result",
          "data": {
            "text/plain": [
              "     erythema  scaling  definite_borders  itching  koebner_phenomenon  \\\n",
              "0           2        2                 0        3                   0   \n",
              "1           3        3                 3        2                   1   \n",
              "2           2        1                 2        3                   1   \n",
              "3           2        2                 2        0                   0   \n",
              "4           2        3                 2        2                   2   \n",
              "..        ...      ...               ...      ...                 ...   \n",
              "361         2        1                 1        0                   1   \n",
              "362         3        2                 1        0                   1   \n",
              "363         3        2                 2        2                   3   \n",
              "364         2        1                 3        1                   2   \n",
              "365         3        2                 2        0                   0   \n",
              "\n",
              "     polygonal_papules  follicular_papules  oral_mucosal_involvement  \\\n",
              "0                    0                   0                         0   \n",
              "1                    0                   0                         0   \n",
              "2                    3                   0                         3   \n",
              "3                    0                   0                         0   \n",
              "4                    2                   0                         2   \n",
              "..                 ...                 ...                       ...   \n",
              "361                  0                   0                         0   \n",
              "362                  0                   0                         0   \n",
              "363                  2                   0                         2   \n",
              "364                  3                   0                         2   \n",
              "365                  0                   0                         0   \n",
              "\n",
              "     knee_and_elbow_involvement  scalp_involvement  ...  \\\n",
              "0                             1                  0  ...   \n",
              "1                             1                  1  ...   \n",
              "2                             0                  0  ...   \n",
              "3                             3                  2  ...   \n",
              "4                             0                  0  ...   \n",
              "..                          ...                ...  ...   \n",
              "361                           0                  0  ...   \n",
              "362                           0                  0  ...   \n",
              "363                           0                  0  ...   \n",
              "364                           0                  0  ...   \n",
              "365                           3                  3  ...   \n",
              "\n",
              "     disappearance_of_the_granular_layer  \\\n",
              "0                                      0   \n",
              "1                                      0   \n",
              "2                                      0   \n",
              "3                                      3   \n",
              "4                                      2   \n",
              "..                                   ...   \n",
              "361                                    0   \n",
              "362                                    1   \n",
              "363                                    0   \n",
              "364                                    0   \n",
              "365                                    2   \n",
              "\n",
              "     vacuolisation_and_damage_of_basal_layer  spongiosis  \\\n",
              "0                                          0           3   \n",
              "1                                          0           0   \n",
              "2                                          2           3   \n",
              "3                                          0           0   \n",
              "4                                          3           2   \n",
              "..                                       ...         ...   \n",
              "361                                        0           1   \n",
              "362                                        0           1   \n",
              "363                                        3           0   \n",
              "364                                        2           0   \n",
              "365                                        0           0   \n",
              "\n",
              "     saw-tooth_appearance_of_retes  follicular_horn_plug  \\\n",
              "0                                0                     0   \n",
              "1                                0                     0   \n",
              "2                                2                     0   \n",
              "3                                0                     0   \n",
              "4                                3                     0   \n",
              "..                             ...                   ...   \n",
              "361                              0                     0   \n",
              "362                              0                     0   \n",
              "363                              3                     0   \n",
              "364                              1                     0   \n",
              "365                              0                     0   \n",
              "\n",
              "     perifollicular_parakeratosis  inflammatory_monoluclear_inflitrate  \\\n",
              "0                               0                                    1   \n",
              "1                               0                                    1   \n",
              "2                               0                                    2   \n",
              "3                               0                                    3   \n",
              "4                               0                                    2   \n",
              "..                            ...                                  ...   \n",
              "361                             0                                    2   \n",
              "362                             0                                    2   \n",
              "363                             0                                    2   \n",
              "364                             0                                    2   \n",
              "365                             0                                    3   \n",
              "\n",
              "     band-like_infiltrate   age  class  \n",
              "0                       0  55.0      2  \n",
              "1                       0   8.0      1  \n",
              "2                       3  26.0      3  \n",
              "3                       0  40.0      1  \n",
              "4                       3  45.0      3  \n",
              "..                    ...   ...    ...  \n",
              "361                     0  25.0      4  \n",
              "362                     0  36.0      4  \n",
              "363                     3  28.0      3  \n",
              "364                     3  50.0      3  \n",
              "365                     0  35.0      1  \n",
              "\n",
              "[366 rows x 35 columns]"
            ],
            "text/html": [
              "\n",
              "  <div id=\"df-ba148521-03dc-432c-82d7-e1669e808318\">\n",
              "    <div class=\"colab-df-container\">\n",
              "      <div>\n",
              "<style scoped>\n",
              "    .dataframe tbody tr th:only-of-type {\n",
              "        vertical-align: middle;\n",
              "    }\n",
              "\n",
              "    .dataframe tbody tr th {\n",
              "        vertical-align: top;\n",
              "    }\n",
              "\n",
              "    .dataframe thead th {\n",
              "        text-align: right;\n",
              "    }\n",
              "</style>\n",
              "<table border=\"1\" class=\"dataframe\">\n",
              "  <thead>\n",
              "    <tr style=\"text-align: right;\">\n",
              "      <th></th>\n",
              "      <th>erythema</th>\n",
              "      <th>scaling</th>\n",
              "      <th>definite_borders</th>\n",
              "      <th>itching</th>\n",
              "      <th>koebner_phenomenon</th>\n",
              "      <th>polygonal_papules</th>\n",
              "      <th>follicular_papules</th>\n",
              "      <th>oral_mucosal_involvement</th>\n",
              "      <th>knee_and_elbow_involvement</th>\n",
              "      <th>scalp_involvement</th>\n",
              "      <th>...</th>\n",
              "      <th>disappearance_of_the_granular_layer</th>\n",
              "      <th>vacuolisation_and_damage_of_basal_layer</th>\n",
              "      <th>spongiosis</th>\n",
              "      <th>saw-tooth_appearance_of_retes</th>\n",
              "      <th>follicular_horn_plug</th>\n",
              "      <th>perifollicular_parakeratosis</th>\n",
              "      <th>inflammatory_monoluclear_inflitrate</th>\n",
              "      <th>band-like_infiltrate</th>\n",
              "      <th>age</th>\n",
              "      <th>class</th>\n",
              "    </tr>\n",
              "  </thead>\n",
              "  <tbody>\n",
              "    <tr>\n",
              "      <th>0</th>\n",
              "      <td>2</td>\n",
              "      <td>2</td>\n",
              "      <td>0</td>\n",
              "      <td>3</td>\n",
              "      <td>0</td>\n",
              "      <td>0</td>\n",
              "      <td>0</td>\n",
              "      <td>0</td>\n",
              "      <td>1</td>\n",
              "      <td>0</td>\n",
              "      <td>...</td>\n",
              "      <td>0</td>\n",
              "      <td>0</td>\n",
              "      <td>3</td>\n",
              "      <td>0</td>\n",
              "      <td>0</td>\n",
              "      <td>0</td>\n",
              "      <td>1</td>\n",
              "      <td>0</td>\n",
              "      <td>55.0</td>\n",
              "      <td>2</td>\n",
              "    </tr>\n",
              "    <tr>\n",
              "      <th>1</th>\n",
              "      <td>3</td>\n",
              "      <td>3</td>\n",
              "      <td>3</td>\n",
              "      <td>2</td>\n",
              "      <td>1</td>\n",
              "      <td>0</td>\n",
              "      <td>0</td>\n",
              "      <td>0</td>\n",
              "      <td>1</td>\n",
              "      <td>1</td>\n",
              "      <td>...</td>\n",
              "      <td>0</td>\n",
              "      <td>0</td>\n",
              "      <td>0</td>\n",
              "      <td>0</td>\n",
              "      <td>0</td>\n",
              "      <td>0</td>\n",
              "      <td>1</td>\n",
              "      <td>0</td>\n",
              "      <td>8.0</td>\n",
              "      <td>1</td>\n",
              "    </tr>\n",
              "    <tr>\n",
              "      <th>2</th>\n",
              "      <td>2</td>\n",
              "      <td>1</td>\n",
              "      <td>2</td>\n",
              "      <td>3</td>\n",
              "      <td>1</td>\n",
              "      <td>3</td>\n",
              "      <td>0</td>\n",
              "      <td>3</td>\n",
              "      <td>0</td>\n",
              "      <td>0</td>\n",
              "      <td>...</td>\n",
              "      <td>0</td>\n",
              "      <td>2</td>\n",
              "      <td>3</td>\n",
              "      <td>2</td>\n",
              "      <td>0</td>\n",
              "      <td>0</td>\n",
              "      <td>2</td>\n",
              "      <td>3</td>\n",
              "      <td>26.0</td>\n",
              "      <td>3</td>\n",
              "    </tr>\n",
              "    <tr>\n",
              "      <th>3</th>\n",
              "      <td>2</td>\n",
              "      <td>2</td>\n",
              "      <td>2</td>\n",
              "      <td>0</td>\n",
              "      <td>0</td>\n",
              "      <td>0</td>\n",
              "      <td>0</td>\n",
              "      <td>0</td>\n",
              "      <td>3</td>\n",
              "      <td>2</td>\n",
              "      <td>...</td>\n",
              "      <td>3</td>\n",
              "      <td>0</td>\n",
              "      <td>0</td>\n",
              "      <td>0</td>\n",
              "      <td>0</td>\n",
              "      <td>0</td>\n",
              "      <td>3</td>\n",
              "      <td>0</td>\n",
              "      <td>40.0</td>\n",
              "      <td>1</td>\n",
              "    </tr>\n",
              "    <tr>\n",
              "      <th>4</th>\n",
              "      <td>2</td>\n",
              "      <td>3</td>\n",
              "      <td>2</td>\n",
              "      <td>2</td>\n",
              "      <td>2</td>\n",
              "      <td>2</td>\n",
              "      <td>0</td>\n",
              "      <td>2</td>\n",
              "      <td>0</td>\n",
              "      <td>0</td>\n",
              "      <td>...</td>\n",
              "      <td>2</td>\n",
              "      <td>3</td>\n",
              "      <td>2</td>\n",
              "      <td>3</td>\n",
              "      <td>0</td>\n",
              "      <td>0</td>\n",
              "      <td>2</td>\n",
              "      <td>3</td>\n",
              "      <td>45.0</td>\n",
              "      <td>3</td>\n",
              "    </tr>\n",
              "    <tr>\n",
              "      <th>...</th>\n",
              "      <td>...</td>\n",
              "      <td>...</td>\n",
              "      <td>...</td>\n",
              "      <td>...</td>\n",
              "      <td>...</td>\n",
              "      <td>...</td>\n",
              "      <td>...</td>\n",
              "      <td>...</td>\n",
              "      <td>...</td>\n",
              "      <td>...</td>\n",
              "      <td>...</td>\n",
              "      <td>...</td>\n",
              "      <td>...</td>\n",
              "      <td>...</td>\n",
              "      <td>...</td>\n",
              "      <td>...</td>\n",
              "      <td>...</td>\n",
              "      <td>...</td>\n",
              "      <td>...</td>\n",
              "      <td>...</td>\n",
              "      <td>...</td>\n",
              "    </tr>\n",
              "    <tr>\n",
              "      <th>361</th>\n",
              "      <td>2</td>\n",
              "      <td>1</td>\n",
              "      <td>1</td>\n",
              "      <td>0</td>\n",
              "      <td>1</td>\n",
              "      <td>0</td>\n",
              "      <td>0</td>\n",
              "      <td>0</td>\n",
              "      <td>0</td>\n",
              "      <td>0</td>\n",
              "      <td>...</td>\n",
              "      <td>0</td>\n",
              "      <td>0</td>\n",
              "      <td>1</td>\n",
              "      <td>0</td>\n",
              "      <td>0</td>\n",
              "      <td>0</td>\n",
              "      <td>2</td>\n",
              "      <td>0</td>\n",
              "      <td>25.0</td>\n",
              "      <td>4</td>\n",
              "    </tr>\n",
              "    <tr>\n",
              "      <th>362</th>\n",
              "      <td>3</td>\n",
              "      <td>2</td>\n",
              "      <td>1</td>\n",
              "      <td>0</td>\n",
              "      <td>1</td>\n",
              "      <td>0</td>\n",
              "      <td>0</td>\n",
              "      <td>0</td>\n",
              "      <td>0</td>\n",
              "      <td>0</td>\n",
              "      <td>...</td>\n",
              "      <td>1</td>\n",
              "      <td>0</td>\n",
              "      <td>1</td>\n",
              "      <td>0</td>\n",
              "      <td>0</td>\n",
              "      <td>0</td>\n",
              "      <td>2</td>\n",
              "      <td>0</td>\n",
              "      <td>36.0</td>\n",
              "      <td>4</td>\n",
              "    </tr>\n",
              "    <tr>\n",
              "      <th>363</th>\n",
              "      <td>3</td>\n",
              "      <td>2</td>\n",
              "      <td>2</td>\n",
              "      <td>2</td>\n",
              "      <td>3</td>\n",
              "      <td>2</td>\n",
              "      <td>0</td>\n",
              "      <td>2</td>\n",
              "      <td>0</td>\n",
              "      <td>0</td>\n",
              "      <td>...</td>\n",
              "      <td>0</td>\n",
              "      <td>3</td>\n",
              "      <td>0</td>\n",
              "      <td>3</td>\n",
              "      <td>0</td>\n",
              "      <td>0</td>\n",
              "      <td>2</td>\n",
              "      <td>3</td>\n",
              "      <td>28.0</td>\n",
              "      <td>3</td>\n",
              "    </tr>\n",
              "    <tr>\n",
              "      <th>364</th>\n",
              "      <td>2</td>\n",
              "      <td>1</td>\n",
              "      <td>3</td>\n",
              "      <td>1</td>\n",
              "      <td>2</td>\n",
              "      <td>3</td>\n",
              "      <td>0</td>\n",
              "      <td>2</td>\n",
              "      <td>0</td>\n",
              "      <td>0</td>\n",
              "      <td>...</td>\n",
              "      <td>0</td>\n",
              "      <td>2</td>\n",
              "      <td>0</td>\n",
              "      <td>1</td>\n",
              "      <td>0</td>\n",
              "      <td>0</td>\n",
              "      <td>2</td>\n",
              "      <td>3</td>\n",
              "      <td>50.0</td>\n",
              "      <td>3</td>\n",
              "    </tr>\n",
              "    <tr>\n",
              "      <th>365</th>\n",
              "      <td>3</td>\n",
              "      <td>2</td>\n",
              "      <td>2</td>\n",
              "      <td>0</td>\n",
              "      <td>0</td>\n",
              "      <td>0</td>\n",
              "      <td>0</td>\n",
              "      <td>0</td>\n",
              "      <td>3</td>\n",
              "      <td>3</td>\n",
              "      <td>...</td>\n",
              "      <td>2</td>\n",
              "      <td>0</td>\n",
              "      <td>0</td>\n",
              "      <td>0</td>\n",
              "      <td>0</td>\n",
              "      <td>0</td>\n",
              "      <td>3</td>\n",
              "      <td>0</td>\n",
              "      <td>35.0</td>\n",
              "      <td>1</td>\n",
              "    </tr>\n",
              "  </tbody>\n",
              "</table>\n",
              "<p>366 rows × 35 columns</p>\n",
              "</div>\n",
              "      <button class=\"colab-df-convert\" onclick=\"convertToInteractive('df-ba148521-03dc-432c-82d7-e1669e808318')\"\n",
              "              title=\"Convert this dataframe to an interactive table.\"\n",
              "              style=\"display:none;\">\n",
              "        \n",
              "  <svg xmlns=\"http://www.w3.org/2000/svg\" height=\"24px\"viewBox=\"0 0 24 24\"\n",
              "       width=\"24px\">\n",
              "    <path d=\"M0 0h24v24H0V0z\" fill=\"none\"/>\n",
              "    <path d=\"M18.56 5.44l.94 2.06.94-2.06 2.06-.94-2.06-.94-.94-2.06-.94 2.06-2.06.94zm-11 1L8.5 8.5l.94-2.06 2.06-.94-2.06-.94L8.5 2.5l-.94 2.06-2.06.94zm10 10l.94 2.06.94-2.06 2.06-.94-2.06-.94-.94-2.06-.94 2.06-2.06.94z\"/><path d=\"M17.41 7.96l-1.37-1.37c-.4-.4-.92-.59-1.43-.59-.52 0-1.04.2-1.43.59L10.3 9.45l-7.72 7.72c-.78.78-.78 2.05 0 2.83L4 21.41c.39.39.9.59 1.41.59.51 0 1.02-.2 1.41-.59l7.78-7.78 2.81-2.81c.8-.78.8-2.07 0-2.86zM5.41 20L4 18.59l7.72-7.72 1.47 1.35L5.41 20z\"/>\n",
              "  </svg>\n",
              "      </button>\n",
              "      \n",
              "  <style>\n",
              "    .colab-df-container {\n",
              "      display:flex;\n",
              "      flex-wrap:wrap;\n",
              "      gap: 12px;\n",
              "    }\n",
              "\n",
              "    .colab-df-convert {\n",
              "      background-color: #E8F0FE;\n",
              "      border: none;\n",
              "      border-radius: 50%;\n",
              "      cursor: pointer;\n",
              "      display: none;\n",
              "      fill: #1967D2;\n",
              "      height: 32px;\n",
              "      padding: 0 0 0 0;\n",
              "      width: 32px;\n",
              "    }\n",
              "\n",
              "    .colab-df-convert:hover {\n",
              "      background-color: #E2EBFA;\n",
              "      box-shadow: 0px 1px 2px rgba(60, 64, 67, 0.3), 0px 1px 3px 1px rgba(60, 64, 67, 0.15);\n",
              "      fill: #174EA6;\n",
              "    }\n",
              "\n",
              "    [theme=dark] .colab-df-convert {\n",
              "      background-color: #3B4455;\n",
              "      fill: #D2E3FC;\n",
              "    }\n",
              "\n",
              "    [theme=dark] .colab-df-convert:hover {\n",
              "      background-color: #434B5C;\n",
              "      box-shadow: 0px 1px 3px 1px rgba(0, 0, 0, 0.15);\n",
              "      filter: drop-shadow(0px 1px 2px rgba(0, 0, 0, 0.3));\n",
              "      fill: #FFFFFF;\n",
              "    }\n",
              "  </style>\n",
              "\n",
              "      <script>\n",
              "        const buttonEl =\n",
              "          document.querySelector('#df-ba148521-03dc-432c-82d7-e1669e808318 button.colab-df-convert');\n",
              "        buttonEl.style.display =\n",
              "          google.colab.kernel.accessAllowed ? 'block' : 'none';\n",
              "\n",
              "        async function convertToInteractive(key) {\n",
              "          const element = document.querySelector('#df-ba148521-03dc-432c-82d7-e1669e808318');\n",
              "          const dataTable =\n",
              "            await google.colab.kernel.invokeFunction('convertToInteractive',\n",
              "                                                     [key], {});\n",
              "          if (!dataTable) return;\n",
              "\n",
              "          const docLinkHtml = 'Like what you see? Visit the ' +\n",
              "            '<a target=\"_blank\" href=https://colab.research.google.com/notebooks/data_table.ipynb>data table notebook</a>'\n",
              "            + ' to learn more about interactive tables.';\n",
              "          element.innerHTML = '';\n",
              "          dataTable['output_type'] = 'display_data';\n",
              "          await google.colab.output.renderOutput(dataTable, element);\n",
              "          const docLink = document.createElement('div');\n",
              "          docLink.innerHTML = docLinkHtml;\n",
              "          element.appendChild(docLink);\n",
              "        }\n",
              "      </script>\n",
              "    </div>\n",
              "  </div>\n",
              "  "
            ]
          },
          "metadata": {},
          "execution_count": 45
        }
      ]
    },
    {
      "cell_type": "markdown",
      "source": [
        "Check for any missing values and impute, if necessary."
      ],
      "metadata": {
        "id": "STsSXEAAq-__"
      }
    },
    {
      "cell_type": "code",
      "source": [
        "# Check for missing values\n",
        "dermatology.isnull().values.any()"
      ],
      "metadata": {
        "colab": {
          "base_uri": "https://localhost:8080/"
        },
        "id": "CKxThcJPuCd8",
        "outputId": "0ddc889c-7c86-4291-e8be-06638a5d29b3"
      },
      "execution_count": null,
      "outputs": [
        {
          "output_type": "execute_result",
          "data": {
            "text/plain": [
              "True"
            ]
          },
          "metadata": {},
          "execution_count": 46
        }
      ]
    },
    {
      "cell_type": "code",
      "source": [
        "# Impute\n",
        "# Load the imputer package\n",
        "from sklearn.impute import SimpleImputer\n",
        "\n",
        "# also try mean or most_frequent\n",
        "import numpy as np\n",
        "imputer = SimpleImputer(missing_values=np.nan, strategy='median')\n",
        "\n",
        "dermatology_imputed = imputer.fit_transform(dermatology.values.reshape(-1,1))[:,0]\n",
        "\n",
        "print(dermatology_imputed)"
      ],
      "metadata": {
        "colab": {
          "base_uri": "https://localhost:8080/"
        },
        "id": "fCPRud54ugNB",
        "outputId": "6a84bb07-f5fd-43a4-e30a-325f99b43985"
      },
      "execution_count": null,
      "outputs": [
        {
          "output_type": "stream",
          "name": "stdout",
          "text": [
            "[ 2.  2.  0. ...  0. 35.  1.]\n"
          ]
        }
      ]
    },
    {
      "cell_type": "markdown",
      "source": [
        "Plot the distribution of disease vs. age in order to understand the relationship between the two (use the same format as shown below). Is age a good indicator of disease? Fully explain your answer.\n",
        "![plot.jpg](data:image/jpeg;base64,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)"
      ],
      "metadata": {
        "id": "5yyZntoPrmve"
      }
    },
    {
      "cell_type": "code",
      "source": [
        "#Plot the distribution of disease vs. age\n",
        "dermatology.boxplot('age', 'class')"
      ],
      "metadata": {
        "colab": {
          "base_uri": "https://localhost:8080/",
          "height": 373
        },
        "id": "8I53ttwuhEM2",
        "outputId": "1292750c-d15c-425d-ca29-83a8f21dd659"
      },
      "execution_count": null,
      "outputs": [
        {
          "output_type": "stream",
          "name": "stderr",
          "text": [
            "/usr/local/lib/python3.7/dist-packages/matplotlib/cbook/__init__.py:1376: VisibleDeprecationWarning: Creating an ndarray from ragged nested sequences (which is a list-or-tuple of lists-or-tuples-or ndarrays with different lengths or shapes) is deprecated. If you meant to do this, you must specify 'dtype=object' when creating the ndarray.\n",
            "  X = np.atleast_1d(X.T if isinstance(X, np.ndarray) else np.asarray(X))\n"
          ]
        },
        {
          "output_type": "execute_result",
          "data": {
            "text/plain": [
              "<matplotlib.axes._subplots.AxesSubplot at 0x7f4a920d6b50>"
            ]
          },
          "metadata": {},
          "execution_count": 48
        },
        {
          "output_type": "display_data",
          "data": {
            "text/plain": [
              "<Figure size 432x288 with 1 Axes>"
            ],
            "image/png": "[encoded data removed]"
          },
          "metadata": {
            "needs_background": "light"
          }
        }
      ]
    },
    {
      "cell_type": "markdown",
      "source": [
        "Age is not a great indicator of disease because many of the diseases are consistent among similar ranges of ages."
      ],
      "metadata": {
        "id": "UZ6nbXIQqaJ4"
      }
    },
    {
      "cell_type": "markdown",
      "source": [
        "Use contingency tables to determine which ordinal attributes have the most leverage on disease. Plot the obtained results."
      ],
      "metadata": {
        "id": "A8KKH8DPr6pX"
      }
    },
    {
      "cell_type": "code",
      "source": [
        "#Rename class column\n",
        "dermatology.rename(columns={'class': 'Class'}, inplace=True)"
      ],
      "metadata": {
        "id": "PIfBXfARyrh_"
      },
      "execution_count": null,
      "outputs": []
    },
    {
      "cell_type": "code",
      "source": [
        "#Contingency table age\n",
        "p_crosstab = pd.crosstab(dermatology.Class, dermatology.age)\n",
        "print(p_crosstab)"
      ],
      "metadata": {
        "colab": {
          "base_uri": "https://localhost:8080/"
        },
        "id": "ZKf2g0d-qhrB",
        "outputId": "2148ce4c-67c6-42a8-ff7d-2ed69c90d6d5"
      },
      "execution_count": null,
      "outputs": [
        {
          "output_type": "stream",
          "name": "stdout",
          "text": [
            "age    0.0   7.0   8.0   9.0   10.0  12.0  13.0  15.0  16.0  17.0  ...  60.0  \\\n",
            "Class                                                              ...         \n",
            "1         1     0     1     1     1     0     0     1     0     1  ...     6   \n",
            "2         0     0     0     0     2     0     0     1     1     0  ...     0   \n",
            "3         0     0     0     0     0     0     0     0     1     0  ...     2   \n",
            "4         0     0     0     0     0     1     0     0     1     1  ...     2   \n",
            "5         0     0     1     0     0     0     0     0     1     3  ...     1   \n",
            "6         0     4     5     1     4     2     2     0     1     0  ...     0   \n",
            "\n",
            "age    61.0  62.0  63.0  64.0  65.0  67.0  68.0  70.0  75.0  \n",
            "Class                                                        \n",
            "1         1     4     0     0     1     1     0     1     1  \n",
            "2         1     0     0     0     0     0     0     1     0  \n",
            "3         0     1     0     0     1     0     0     0     0  \n",
            "4         0     2     0     0     0     0     0     1     0  \n",
            "5         0     0     1     1     0     0     1     1     0  \n",
            "6         0     0     0     0     0     0     0     0     0  \n",
            "\n",
            "[6 rows x 60 columns]\n"
          ]
        }
      ]
    },
    {
      "cell_type": "code",
      "source": [
        "#Contingency table itching\n",
        "p_crosstab = pd.crosstab(dermatology.Class, dermatology.itching)\n",
        "print(p_crosstab)"
      ],
      "metadata": {
        "colab": {
          "base_uri": "https://localhost:8080/"
        },
        "id": "ifSbRi7Yy7Jj",
        "outputId": "9742c2e0-ed1c-467a-bff6-41fc6cd26e52"
      },
      "execution_count": null,
      "outputs": [
        {
          "output_type": "stream",
          "name": "stdout",
          "text": [
            "itching   0   1   2   3\n",
            "Class                  \n",
            "1        55  22  21  14\n",
            "2         9  16  25  11\n",
            "3         2   9  28  33\n",
            "4        33  10   5   1\n",
            "5         8   7  20  17\n",
            "6        11   8   1   0\n"
          ]
        }
      ]
    },
    {
      "cell_type": "code",
      "source": [
        "#Contingency table family history\n",
        "p_crosstab = pd.crosstab(dermatology.Class, dermatology.family_history)\n",
        "print(p_crosstab)"
      ],
      "metadata": {
        "colab": {
          "base_uri": "https://localhost:8080/"
        },
        "id": "toNvs4uczH-X",
        "outputId": "3041b8e3-5cea-4443-b142-1fb98c30a824"
      },
      "execution_count": null,
      "outputs": [
        {
          "output_type": "stream",
          "name": "stdout",
          "text": [
            "family_history   0   1\n",
            "Class                 \n",
            "1               80  32\n",
            "2               58   3\n",
            "3               71   1\n",
            "4               49   0\n",
            "5               52   0\n",
            "6               10  10\n"
          ]
        }
      ]
    },
    {
      "cell_type": "code",
      "source": [
        "#Contingency table scaling\n",
        "p_crosstab = pd.crosstab(dermatology.Class, dermatology.scaling)\n",
        "print(p_crosstab)"
      ],
      "metadata": {
        "colab": {
          "base_uri": "https://localhost:8080/"
        },
        "id": "dRQp04ZTzRpD",
        "outputId": "7134839f-c831-41cc-ec60-1fc0d7e8a3ae"
      },
      "execution_count": null,
      "outputs": [
        {
          "output_type": "stream",
          "name": "stdout",
          "text": [
            "scaling  0   1   2   3\n",
            "Class                 \n",
            "1        0  13  64  35\n",
            "2        0   7  43  11\n",
            "3        2  28  37   5\n",
            "4        0  24  25   0\n",
            "5        6  34  11   1\n",
            "6        0   5  15   0\n"
          ]
        }
      ]
    },
    {
      "cell_type": "code",
      "source": [
        "#Contingency table focal_hypergranulosis\n",
        "p_crosstab = pd.crosstab(dermatology.Class, dermatology.focal_hypergranulosis)\n",
        "print(p_crosstab)"
      ],
      "metadata": {
        "colab": {
          "base_uri": "https://localhost:8080/"
        },
        "id": "HmnAxjKSzbao",
        "outputId": "f942914e-459e-4985-ce5b-83a602286873"
      },
      "execution_count": null,
      "outputs": [
        {
          "output_type": "stream",
          "name": "stdout",
          "text": [
            "focal_hypergranulosis    0   1   2   3\n",
            "Class                                 \n",
            "1                      112   0   0   0\n",
            "2                       61   0   0   0\n",
            "3                        2  12  43  15\n",
            "4                       49   0   0   0\n",
            "5                       52   0   0   0\n",
            "6                       19   1   0   0\n"
          ]
        }
      ]
    },
    {
      "cell_type": "code",
      "source": [
        "#Plot itching vs. disease\n",
        "dermatology.boxplot('itching', 'Class')"
      ],
      "metadata": {
        "colab": {
          "base_uri": "https://localhost:8080/",
          "height": 373
        },
        "id": "H2pdjZvfzz4_",
        "outputId": "6bacaa20-5976-4309-9d03-ed374c41bef4"
      },
      "execution_count": null,
      "outputs": [
        {
          "output_type": "stream",
          "name": "stderr",
          "text": [
            "/usr/local/lib/python3.7/dist-packages/matplotlib/cbook/__init__.py:1376: VisibleDeprecationWarning: Creating an ndarray from ragged nested sequences (which is a list-or-tuple of lists-or-tuples-or ndarrays with different lengths or shapes) is deprecated. If you meant to do this, you must specify 'dtype=object' when creating the ndarray.\n",
            "  X = np.atleast_1d(X.T if isinstance(X, np.ndarray) else np.asarray(X))\n"
          ]
        },
        {
          "output_type": "execute_result",
          "data": {
            "text/plain": [
              "<matplotlib.axes._subplots.AxesSubplot at 0x7f4a92b96ed0>"
            ]
          },
          "metadata": {},
          "execution_count": 55
        },
        {
          "output_type": "display_data",
          "data": {
            "text/plain": [
              "<Figure size 432x288 with 1 Axes>"
            ],
            "image/png": "[encoded data removed]"
          },
          "metadata": {
            "needs_background": "light"
          }
        }
      ]
    },
    {
      "cell_type": "code",
      "source": [
        "#Plot family_history vs. disease\n",
        "dermatology.boxplot('family_history', 'Class')"
      ],
      "metadata": {
        "colab": {
          "base_uri": "https://localhost:8080/",
          "height": 373
        },
        "id": "cnEORH2V0j1k",
        "outputId": "894fa9fd-cac8-4f4a-f67c-5473323fde1a"
      },
      "execution_count": null,
      "outputs": [
        {
          "output_type": "stream",
          "name": "stderr",
          "text": [
            "/usr/local/lib/python3.7/dist-packages/matplotlib/cbook/__init__.py:1376: VisibleDeprecationWarning: Creating an ndarray from ragged nested sequences (which is a list-or-tuple of lists-or-tuples-or ndarrays with different lengths or shapes) is deprecated. If you meant to do this, you must specify 'dtype=object' when creating the ndarray.\n",
            "  X = np.atleast_1d(X.T if isinstance(X, np.ndarray) else np.asarray(X))\n"
          ]
        },
        {
          "output_type": "execute_result",
          "data": {
            "text/plain": [
              "<matplotlib.axes._subplots.AxesSubplot at 0x7f4a91ec6d90>"
            ]
          },
          "metadata": {},
          "execution_count": 56
        },
        {
          "output_type": "display_data",
          "data": {
            "text/plain": [
              "<Figure size 432x288 with 1 Axes>"
            ],
            "image/png": "[encoded data removed]"
          },
          "metadata": {
            "needs_background": "light"
          }
        }
      ]
    },
    {
      "cell_type": "code",
      "source": [
        "#Plot scaling vs. disease\n",
        "dermatology.boxplot('scaling', 'Class')"
      ],
      "metadata": {
        "colab": {
          "base_uri": "https://localhost:8080/",
          "height": 373
        },
        "id": "kxfcEuDL0nzl",
        "outputId": "64ac98eb-2398-4def-e911-3592e9d44fdd"
      },
      "execution_count": null,
      "outputs": [
        {
          "output_type": "stream",
          "name": "stderr",
          "text": [
            "/usr/local/lib/python3.7/dist-packages/matplotlib/cbook/__init__.py:1376: VisibleDeprecationWarning: Creating an ndarray from ragged nested sequences (which is a list-or-tuple of lists-or-tuples-or ndarrays with different lengths or shapes) is deprecated. If you meant to do this, you must specify 'dtype=object' when creating the ndarray.\n",
            "  X = np.atleast_1d(X.T if isinstance(X, np.ndarray) else np.asarray(X))\n"
          ]
        },
        {
          "output_type": "execute_result",
          "data": {
            "text/plain": [
              "<matplotlib.axes._subplots.AxesSubplot at 0x7f4a98077750>"
            ]
          },
          "metadata": {},
          "execution_count": 14
        },
        {
          "output_type": "display_data",
          "data": {
            "text/plain": [
              "<Figure size 432x288 with 1 Axes>"
            ],
            "image/png": "[encoded data removed]"
          },
          "metadata": {
            "needs_background": "light"
          }
        }
      ]
    },
    {
      "cell_type": "code",
      "source": [
        "#Plot focal_hypergranulosis vs. disease\n",
        "dermatology.boxplot('focal_hypergranulosis', 'Class')"
      ],
      "metadata": {
        "colab": {
          "base_uri": "https://localhost:8080/",
          "height": 373
        },
        "id": "IQD0nLVN0pxZ",
        "outputId": "ba91d224-19d1-4d38-d1e1-41a8f68b2373"
      },
      "execution_count": null,
      "outputs": [
        {
          "output_type": "stream",
          "name": "stderr",
          "text": [
            "/usr/local/lib/python3.7/dist-packages/matplotlib/cbook/__init__.py:1376: VisibleDeprecationWarning: Creating an ndarray from ragged nested sequences (which is a list-or-tuple of lists-or-tuples-or ndarrays with different lengths or shapes) is deprecated. If you meant to do this, you must specify 'dtype=object' when creating the ndarray.\n",
            "  X = np.atleast_1d(X.T if isinstance(X, np.ndarray) else np.asarray(X))\n"
          ]
        },
        {
          "output_type": "execute_result",
          "data": {
            "text/plain": [
              "<matplotlib.axes._subplots.AxesSubplot at 0x7f4a98039810>"
            ]
          },
          "metadata": {},
          "execution_count": 15
        },
        {
          "output_type": "display_data",
          "data": {
            "text/plain": [
              "<Figure size 432x288 with 1 Axes>"
            ],
            "image/png": "[encoded data removed]"
          },
          "metadata": {
            "needs_background": "light"
          }
        }
      ]
    },
    {
      "cell_type": "markdown",
      "source": [
        "Create a new column disease_1 by extracting only those records where the Disease=1 (psoriasis) , assigning “1” for those rows in the newly created  column, and marking “0” for the rest. "
      ],
      "metadata": {
        "id": "ozNn2rI-r7MK"
      }
    },
    {
      "cell_type": "code",
      "source": [
        "dermatology['disease_1'] = np.where(dermatology['Class']!= 1, 0, 1)\n",
        "dermatology.head()"
      ],
      "metadata": {
        "colab": {
          "base_uri": "https://localhost:8080/",
          "height": 317
        },
        "id": "ISWYYkEA0yM4",
        "outputId": "cdb8e39d-7941-4834-8e3d-097bc8359a89"
      },
      "execution_count": null,
      "outputs": [
        {
          "output_type": "execute_result",
          "data": {
            "text/plain": [
              "   erythema  scaling  definite_borders  itching  koebner_phenomenon  \\\n",
              "0         2        2                 0        3                   0   \n",
              "1         3        3                 3        2                   1   \n",
              "2         2        1                 2        3                   1   \n",
              "3         2        2                 2        0                   0   \n",
              "4         2        3                 2        2                   2   \n",
              "\n",
              "   polygonal_papules  follicular_papules  oral_mucosal_involvement  \\\n",
              "0                  0                   0                         0   \n",
              "1                  0                   0                         0   \n",
              "2                  3                   0                         3   \n",
              "3                  0                   0                         0   \n",
              "4                  2                   0                         2   \n",
              "\n",
              "   knee_and_elbow_involvement  scalp_involvement  ...  \\\n",
              "0                           1                  0  ...   \n",
              "1                           1                  1  ...   \n",
              "2                           0                  0  ...   \n",
              "3                           3                  2  ...   \n",
              "4                           0                  0  ...   \n",
              "\n",
              "   vacuolisation_and_damage_of_basal_layer  spongiosis  \\\n",
              "0                                        0           3   \n",
              "1                                        0           0   \n",
              "2                                        2           3   \n",
              "3                                        0           0   \n",
              "4                                        3           2   \n",
              "\n",
              "   saw-tooth_appearance_of_retes  follicular_horn_plug  \\\n",
              "0                              0                     0   \n",
              "1                              0                     0   \n",
              "2                              2                     0   \n",
              "3                              0                     0   \n",
              "4                              3                     0   \n",
              "\n",
              "   perifollicular_parakeratosis  inflammatory_monoluclear_inflitrate  \\\n",
              "0                             0                                    1   \n",
              "1                             0                                    1   \n",
              "2                             0                                    2   \n",
              "3                             0                                    3   \n",
              "4                             0                                    2   \n",
              "\n",
              "   band-like_infiltrate   age  Class  disease_1  \n",
              "0                     0  55.0      2          0  \n",
              "1                     0   8.0      1          1  \n",
              "2                     3  26.0      3          0  \n",
              "3                     0  40.0      1          1  \n",
              "4                     3  45.0      3          0  \n",
              "\n",
              "[5 rows x 36 columns]"
            ],
            "text/html": [
              "\n",
              "  <div id=\"df-68d2f54f-c49c-48df-b8ec-4fe876093b2c\">\n",
              "    <div class=\"colab-df-container\">\n",
              "      <div>\n",
              "<style scoped>\n",
              "    .dataframe tbody tr th:only-of-type {\n",
              "        vertical-align: middle;\n",
              "    }\n",
              "\n",
              "    .dataframe tbody tr th {\n",
              "        vertical-align: top;\n",
              "    }\n",
              "\n",
              "    .dataframe thead th {\n",
              "        text-align: right;\n",
              "    }\n",
              "</style>\n",
              "<table border=\"1\" class=\"dataframe\">\n",
              "  <thead>\n",
              "    <tr style=\"text-align: right;\">\n",
              "      <th></th>\n",
              "      <th>erythema</th>\n",
              "      <th>scaling</th>\n",
              "      <th>definite_borders</th>\n",
              "      <th>itching</th>\n",
              "      <th>koebner_phenomenon</th>\n",
              "      <th>polygonal_papules</th>\n",
              "      <th>follicular_papules</th>\n",
              "      <th>oral_mucosal_involvement</th>\n",
              "      <th>knee_and_elbow_involvement</th>\n",
              "      <th>scalp_involvement</th>\n",
              "      <th>...</th>\n",
              "      <th>vacuolisation_and_damage_of_basal_layer</th>\n",
              "      <th>spongiosis</th>\n",
              "      <th>saw-tooth_appearance_of_retes</th>\n",
              "      <th>follicular_horn_plug</th>\n",
              "      <th>perifollicular_parakeratosis</th>\n",
              "      <th>inflammatory_monoluclear_inflitrate</th>\n",
              "      <th>band-like_infiltrate</th>\n",
              "      <th>age</th>\n",
              "      <th>Class</th>\n",
              "      <th>disease_1</th>\n",
              "    </tr>\n",
              "  </thead>\n",
              "  <tbody>\n",
              "    <tr>\n",
              "      <th>0</th>\n",
              "      <td>2</td>\n",
              "      <td>2</td>\n",
              "      <td>0</td>\n",
              "      <td>3</td>\n",
              "      <td>0</td>\n",
              "      <td>0</td>\n",
              "      <td>0</td>\n",
              "      <td>0</td>\n",
              "      <td>1</td>\n",
              "      <td>0</td>\n",
              "      <td>...</td>\n",
              "      <td>0</td>\n",
              "      <td>3</td>\n",
              "      <td>0</td>\n",
              "      <td>0</td>\n",
              "      <td>0</td>\n",
              "      <td>1</td>\n",
              "      <td>0</td>\n",
              "      <td>55.0</td>\n",
              "      <td>2</td>\n",
              "      <td>0</td>\n",
              "    </tr>\n",
              "    <tr>\n",
              "      <th>1</th>\n",
              "      <td>3</td>\n",
              "      <td>3</td>\n",
              "      <td>3</td>\n",
              "      <td>2</td>\n",
              "      <td>1</td>\n",
              "      <td>0</td>\n",
              "      <td>0</td>\n",
              "      <td>0</td>\n",
              "      <td>1</td>\n",
              "      <td>1</td>\n",
              "      <td>...</td>\n",
              "      <td>0</td>\n",
              "      <td>0</td>\n",
              "      <td>0</td>\n",
              "      <td>0</td>\n",
              "      <td>0</td>\n",
              "      <td>1</td>\n",
              "      <td>0</td>\n",
              "      <td>8.0</td>\n",
              "      <td>1</td>\n",
              "      <td>1</td>\n",
              "    </tr>\n",
              "    <tr>\n",
              "      <th>2</th>\n",
              "      <td>2</td>\n",
              "      <td>1</td>\n",
              "      <td>2</td>\n",
              "      <td>3</td>\n",
              "      <td>1</td>\n",
              "      <td>3</td>\n",
              "      <td>0</td>\n",
              "      <td>3</td>\n",
              "      <td>0</td>\n",
              "      <td>0</td>\n",
              "      <td>...</td>\n",
              "      <td>2</td>\n",
              "      <td>3</td>\n",
              "      <td>2</td>\n",
              "      <td>0</td>\n",
              "      <td>0</td>\n",
              "      <td>2</td>\n",
              "      <td>3</td>\n",
              "      <td>26.0</td>\n",
              "      <td>3</td>\n",
              "      <td>0</td>\n",
              "    </tr>\n",
              "    <tr>\n",
              "      <th>3</th>\n",
              "      <td>2</td>\n",
              "      <td>2</td>\n",
              "      <td>2</td>\n",
              "      <td>0</td>\n",
              "      <td>0</td>\n",
              "      <td>0</td>\n",
              "      <td>0</td>\n",
              "      <td>0</td>\n",
              "      <td>3</td>\n",
              "      <td>2</td>\n",
              "      <td>...</td>\n",
              "      <td>0</td>\n",
              "      <td>0</td>\n",
              "      <td>0</td>\n",
              "      <td>0</td>\n",
              "      <td>0</td>\n",
              "      <td>3</td>\n",
              "      <td>0</td>\n",
              "      <td>40.0</td>\n",
              "      <td>1</td>\n",
              "      <td>1</td>\n",
              "    </tr>\n",
              "    <tr>\n",
              "      <th>4</th>\n",
              "      <td>2</td>\n",
              "      <td>3</td>\n",
              "      <td>2</td>\n",
              "      <td>2</td>\n",
              "      <td>2</td>\n",
              "      <td>2</td>\n",
              "      <td>0</td>\n",
              "      <td>2</td>\n",
              "      <td>0</td>\n",
              "      <td>0</td>\n",
              "      <td>...</td>\n",
              "      <td>3</td>\n",
              "      <td>2</td>\n",
              "      <td>3</td>\n",
              "      <td>0</td>\n",
              "      <td>0</td>\n",
              "      <td>2</td>\n",
              "      <td>3</td>\n",
              "      <td>45.0</td>\n",
              "      <td>3</td>\n",
              "      <td>0</td>\n",
              "    </tr>\n",
              "  </tbody>\n",
              "</table>\n",
              "<p>5 rows × 36 columns</p>\n",
              "</div>\n",
              "      <button class=\"colab-df-convert\" onclick=\"convertToInteractive('df-68d2f54f-c49c-48df-b8ec-4fe876093b2c')\"\n",
              "              title=\"Convert this dataframe to an interactive table.\"\n",
              "              style=\"display:none;\">\n",
              "        \n",
              "  <svg xmlns=\"http://www.w3.org/2000/svg\" height=\"24px\"viewBox=\"0 0 24 24\"\n",
              "       width=\"24px\">\n",
              "    <path d=\"M0 0h24v24H0V0z\" fill=\"none\"/>\n",
              "    <path d=\"M18.56 5.44l.94 2.06.94-2.06 2.06-.94-2.06-.94-.94-2.06-.94 2.06-2.06.94zm-11 1L8.5 8.5l.94-2.06 2.06-.94-2.06-.94L8.5 2.5l-.94 2.06-2.06.94zm10 10l.94 2.06.94-2.06 2.06-.94-2.06-.94-.94-2.06-.94 2.06-2.06.94z\"/><path d=\"M17.41 7.96l-1.37-1.37c-.4-.4-.92-.59-1.43-.59-.52 0-1.04.2-1.43.59L10.3 9.45l-7.72 7.72c-.78.78-.78 2.05 0 2.83L4 21.41c.39.39.9.59 1.41.59.51 0 1.02-.2 1.41-.59l7.78-7.78 2.81-2.81c.8-.78.8-2.07 0-2.86zM5.41 20L4 18.59l7.72-7.72 1.47 1.35L5.41 20z\"/>\n",
              "  </svg>\n",
              "      </button>\n",
              "      \n",
              "  <style>\n",
              "    .colab-df-container {\n",
              "      display:flex;\n",
              "      flex-wrap:wrap;\n",
              "      gap: 12px;\n",
              "    }\n",
              "\n",
              "    .colab-df-convert {\n",
              "      background-color: #E8F0FE;\n",
              "      border: none;\n",
              "      border-radius: 50%;\n",
              "      cursor: pointer;\n",
              "      display: none;\n",
              "      fill: #1967D2;\n",
              "      height: 32px;\n",
              "      padding: 0 0 0 0;\n",
              "      width: 32px;\n",
              "    }\n",
              "\n",
              "    .colab-df-convert:hover {\n",
              "      background-color: #E2EBFA;\n",
              "      box-shadow: 0px 1px 2px rgba(60, 64, 67, 0.3), 0px 1px 3px 1px rgba(60, 64, 67, 0.15);\n",
              "      fill: #174EA6;\n",
              "    }\n",
              "\n",
              "    [theme=dark] .colab-df-convert {\n",
              "      background-color: #3B4455;\n",
              "      fill: #D2E3FC;\n",
              "    }\n",
              "\n",
              "    [theme=dark] .colab-df-convert:hover {\n",
              "      background-color: #434B5C;\n",
              "      box-shadow: 0px 1px 3px 1px rgba(0, 0, 0, 0.15);\n",
              "      filter: drop-shadow(0px 1px 2px rgba(0, 0, 0, 0.3));\n",
              "      fill: #FFFFFF;\n",
              "    }\n",
              "  </style>\n",
              "\n",
              "      <script>\n",
              "        const buttonEl =\n",
              "          document.querySelector('#df-68d2f54f-c49c-48df-b8ec-4fe876093b2c button.colab-df-convert');\n",
              "        buttonEl.style.display =\n",
              "          google.colab.kernel.accessAllowed ? 'block' : 'none';\n",
              "\n",
              "        async function convertToInteractive(key) {\n",
              "          const element = document.querySelector('#df-68d2f54f-c49c-48df-b8ec-4fe876093b2c');\n",
              "          const dataTable =\n",
              "            await google.colab.kernel.invokeFunction('convertToInteractive',\n",
              "                                                     [key], {});\n",
              "          if (!dataTable) return;\n",
              "\n",
              "          const docLinkHtml = 'Like what you see? Visit the ' +\n",
              "            '<a target=\"_blank\" href=https://colab.research.google.com/notebooks/data_table.ipynb>data table notebook</a>'\n",
              "            + ' to learn more about interactive tables.';\n",
              "          element.innerHTML = '';\n",
              "          dataTable['output_type'] = 'display_data';\n",
              "          await google.colab.output.renderOutput(dataTable, element);\n",
              "          const docLink = document.createElement('div');\n",
              "          docLink.innerHTML = docLinkHtml;\n",
              "          element.appendChild(docLink);\n",
              "        }\n",
              "      </script>\n",
              "    </div>\n",
              "  </div>\n",
              "  "
            ]
          },
          "metadata": {},
          "execution_count": 16
        }
      ]
    },
    {
      "cell_type": "markdown",
      "source": [
        "Create four models and evaluate each using 3-fold cross-validation:\n",
        "*   A linear regression model for disease_1 vs. age even though disease_1 is a categoric variable. Plot the regression line, and compute the MSE and r-squared values for the model.\n",
        "\n",
        "*   An NB classifier model for disease_1 vs. the top ranking (relevant) 5 attributes. Display the overall accuracy and the confusion matrix.\n",
        "\n",
        "*   A decision tree model (Gini or Entropy) for the entire feature space vs. the disease column. Display the relevant information about the generated tree, and print the confusion matrix.\n",
        "*   A random forest model for the entire feature space vs. the disease column. Display the relevant information about one of the generated trees, and print the confusion matrix. Plot the model's .feature_importances_ which is a measure of the accumulation of the impurity decrease within each tree."
      ],
      "metadata": {
        "id": "EoGp8lhvr8r2"
      }
    },
    {
      "cell_type": "code",
      "source": [
        "dermatology.isnull().any().any()"
      ],
      "metadata": {
        "colab": {
          "base_uri": "https://localhost:8080/"
        },
        "id": "qYEgGsTFpE2A",
        "outputId": "1486ae4f-b9e8-4afc-e13d-b6c202ad2e82"
      },
      "execution_count": null,
      "outputs": [
        {
          "output_type": "execute_result",
          "data": {
            "text/plain": [
              "True"
            ]
          },
          "metadata": {},
          "execution_count": 30
        }
      ]
    },
    {
      "cell_type": "code",
      "source": [
        "dermatology.dropna(inplace=True)\n",
        "\n",
        "dermatology.shape"
      ],
      "metadata": {
        "colab": {
          "base_uri": "https://localhost:8080/"
        },
        "id": "tbAvWNWspfoK",
        "outputId": "13c1b94e-f64c-4676-8f90-4b6b133135f6"
      },
      "execution_count": null,
      "outputs": [
        {
          "output_type": "execute_result",
          "data": {
            "text/plain": [
              "(358, 35)"
            ]
          },
          "metadata": {},
          "execution_count": 57
        }
      ]
    },
    {
      "cell_type": "code",
      "source": [
        "# Perform regression to find the best line to goes through these points\n",
        "\n",
        "from sklearn.linear_model import LinearRegression\n",
        "\n",
        "X = dermatology['age'].values.reshape(-1,1)\n",
        "\n",
        "Y = dermatology['disease_1'].values.reshape(-1,1)\n",
        "\n",
        "# Create the model\n",
        "LRmodel = LinearRegression()  \n",
        "\n",
        "# Perform linear regression\n",
        "LRmodel.fit(X, Y)   \n",
        "\n",
        "# Make predictions\n",
        "Y_pred = LRmodel.predict(X)  \n",
        "\n",
        "\n",
        "# Visualize the dataset and the regression line:\n",
        "plt.scatter(X, Y)\n",
        "plt.plot(X, Y_pred, color='red')\n",
        "\n",
        "plt.show()"
      ],
      "metadata": {
        "colab": {
          "base_uri": "https://localhost:8080/",
          "height": 265
        },
        "id": "mtYa3tHXoZoW",
        "outputId": "d9871059-781f-4b92-c654-e591dac21820"
      },
      "execution_count": null,
      "outputs": [
        {
          "output_type": "display_data",
          "data": {
            "text/plain": [
              "<Figure size 432x288 with 1 Axes>"
            ],
            "image/png": "[encoded data removed]"
          },
          "metadata": {
            "needs_background": "light"
          }
        }
      ]
    },
    {
      "cell_type": "code",
      "source": [
        "#MSE and R2\n",
        "from sklearn.metrics import mean_squared_error, r2_score\n",
        "\n",
        "print(\"MSE: \", mean_squared_error(Y, Y_pred))\n",
        "print(\"R2: \", r2_score(Y, Y_pred))"
      ],
      "metadata": {
        "id": "1wucfTXfYCCg",
        "colab": {
          "base_uri": "https://localhost:8080/"
        },
        "outputId": "333827ac-cbdd-459a-fc27-fb997c070a60"
      },
      "execution_count": null,
      "outputs": [
        {
          "output_type": "stream",
          "name": "stdout",
          "text": [
            "MSE:  0.21002121747081612\n",
            "R2:  0.01823104949740384\n"
          ]
        }
      ]
    },
    {
      "cell_type": "code",
      "source": [
        "#Encode the data set\n",
        "from sklearn import preprocessing\n",
        "le = preprocessing.LabelEncoder()\n",
        "\n",
        "# save the encoded dataframe here\n",
        "encoded_derm = pd.DataFrame()\n",
        "\n",
        "# Encode  only the categoric or boolean attributes\n",
        "for i in range(0, dermatology.shape[1]):\n",
        "    if dermatology.dtypes[i]=='object' or dermatology.dtypes[i]=='bool':\n",
        "        encoded_derm[dermatology.columns[i]] = le.fit_transform(dermatology[dermatology.columns[i]])\n",
        "\n",
        "\n",
        "\n",
        "print(\"-=========================\")\n",
        "print(dermatology)\n",
        "print(\"-=========================\")\n",
        "encoded_derm"
      ],
      "metadata": {
        "colab": {
          "base_uri": "https://localhost:8080/",
          "height": 1000
        },
        "id": "kBCTOVkvaYsp",
        "outputId": "3cd31ba3-77a2-4766-976a-fee06e57eb73"
      },
      "execution_count": null,
      "outputs": [
        {
          "output_type": "stream",
          "name": "stdout",
          "text": [
            "-=========================\n",
            "     index  erythema  scaling  definite_borders  itching  koebner_phenomenon  \\\n",
            "0        0         2        2                 0        3                   0   \n",
            "1        1         3        3                 3        2                   1   \n",
            "2        2         2        1                 2        3                   1   \n",
            "3        3         2        2                 2        0                   0   \n",
            "4        4         2        3                 2        2                   2   \n",
            "..     ...       ...      ...               ...      ...                 ...   \n",
            "361    361         2        1                 1        0                   1   \n",
            "362    362         3        2                 1        0                   1   \n",
            "363    363         3        2                 2        2                   3   \n",
            "364    364         2        1                 3        1                   2   \n",
            "365    365         3        2                 2        0                   0   \n",
            "\n",
            "     polygonal_papules  follicular_papules  oral_mucosal_involvement  \\\n",
            "0                    0                   0                         0   \n",
            "1                    0                   0                         0   \n",
            "2                    3                   0                         3   \n",
            "3                    0                   0                         0   \n",
            "4                    2                   0                         2   \n",
            "..                 ...                 ...                       ...   \n",
            "361                  0                   0                         0   \n",
            "362                  0                   0                         0   \n",
            "363                  2                   0                         2   \n",
            "364                  3                   0                         2   \n",
            "365                  0                   0                         0   \n",
            "\n",
            "     knee_and_elbow_involvement  ...  vacuolisation_and_damage_of_basal_layer  \\\n",
            "0                             1  ...                                        0   \n",
            "1                             1  ...                                        0   \n",
            "2                             0  ...                                        2   \n",
            "3                             3  ...                                        0   \n",
            "4                             0  ...                                        3   \n",
            "..                          ...  ...                                      ...   \n",
            "361                           0  ...                                        0   \n",
            "362                           0  ...                                        0   \n",
            "363                           0  ...                                        3   \n",
            "364                           0  ...                                        2   \n",
            "365                           3  ...                                        0   \n",
            "\n",
            "     spongiosis  saw-tooth_appearance_of_retes  follicular_horn_plug  \\\n",
            "0             3                              0                     0   \n",
            "1             0                              0                     0   \n",
            "2             3                              2                     0   \n",
            "3             0                              0                     0   \n",
            "4             2                              3                     0   \n",
            "..          ...                            ...                   ...   \n",
            "361           1                              0                     0   \n",
            "362           1                              0                     0   \n",
            "363           0                              3                     0   \n",
            "364           0                              1                     0   \n",
            "365           0                              0                     0   \n",
            "\n",
            "     perifollicular_parakeratosis  inflammatory_monoluclear_inflitrate  \\\n",
            "0                               0                                    1   \n",
            "1                               0                                    1   \n",
            "2                               0                                    2   \n",
            "3                               0                                    3   \n",
            "4                               0                                    2   \n",
            "..                            ...                                  ...   \n",
            "361                             0                                    2   \n",
            "362                             0                                    2   \n",
            "363                             0                                    2   \n",
            "364                             0                                    2   \n",
            "365                             0                                    3   \n",
            "\n",
            "     band-like_infiltrate   age  Class  disease_1  \n",
            "0                       0  55.0      2          0  \n",
            "1                       0   8.0      1          1  \n",
            "2                       3  26.0      3          0  \n",
            "3                       0  40.0      1          1  \n",
            "4                       3  45.0      3          0  \n",
            "..                    ...   ...    ...        ...  \n",
            "361                     0  25.0      4          0  \n",
            "362                     0  36.0      4          0  \n",
            "363                     3  28.0      3          0  \n",
            "364                     3  50.0      3          0  \n",
            "365                     0  35.0      1          1  \n",
            "\n",
            "[358 rows x 37 columns]\n",
            "-=========================\n"
          ]
        },
        {
          "output_type": "execute_result",
          "data": {
            "text/plain": [
              "Empty DataFrame\n",
              "Columns: []\n",
              "Index: []"
            ],
            "text/html": [
              "\n",
              "  <div id=\"df-735687cf-1157-43d3-8fe0-b5655e1dec3d\">\n",
              "    <div class=\"colab-df-container\">\n",
              "      <div>\n",
              "<style scoped>\n",
              "    .dataframe tbody tr th:only-of-type {\n",
              "        vertical-align: middle;\n",
              "    }\n",
              "\n",
              "    .dataframe tbody tr th {\n",
              "        vertical-align: top;\n",
              "    }\n",
              "\n",
              "    .dataframe thead th {\n",
              "        text-align: right;\n",
              "    }\n",
              "</style>\n",
              "<table border=\"1\" class=\"dataframe\">\n",
              "  <thead>\n",
              "    <tr style=\"text-align: right;\">\n",
              "      <th></th>\n",
              "    </tr>\n",
              "  </thead>\n",
              "  <tbody>\n",
              "  </tbody>\n",
              "</table>\n",
              "</div>\n",
              "      <button class=\"colab-df-convert\" onclick=\"convertToInteractive('df-735687cf-1157-43d3-8fe0-b5655e1dec3d')\"\n",
              "              title=\"Convert this dataframe to an interactive table.\"\n",
              "              style=\"display:none;\">\n",
              "        \n",
              "  <svg xmlns=\"http://www.w3.org/2000/svg\" height=\"24px\"viewBox=\"0 0 24 24\"\n",
              "       width=\"24px\">\n",
              "    <path d=\"M0 0h24v24H0V0z\" fill=\"none\"/>\n",
              "    <path d=\"M18.56 5.44l.94 2.06.94-2.06 2.06-.94-2.06-.94-.94-2.06-.94 2.06-2.06.94zm-11 1L8.5 8.5l.94-2.06 2.06-.94-2.06-.94L8.5 2.5l-.94 2.06-2.06.94zm10 10l.94 2.06.94-2.06 2.06-.94-2.06-.94-.94-2.06-.94 2.06-2.06.94z\"/><path d=\"M17.41 7.96l-1.37-1.37c-.4-.4-.92-.59-1.43-.59-.52 0-1.04.2-1.43.59L10.3 9.45l-7.72 7.72c-.78.78-.78 2.05 0 2.83L4 21.41c.39.39.9.59 1.41.59.51 0 1.02-.2 1.41-.59l7.78-7.78 2.81-2.81c.8-.78.8-2.07 0-2.86zM5.41 20L4 18.59l7.72-7.72 1.47 1.35L5.41 20z\"/>\n",
              "  </svg>\n",
              "      </button>\n",
              "      \n",
              "  <style>\n",
              "    .colab-df-container {\n",
              "      display:flex;\n",
              "      flex-wrap:wrap;\n",
              "      gap: 12px;\n",
              "    }\n",
              "\n",
              "    .colab-df-convert {\n",
              "      background-color: #E8F0FE;\n",
              "      border: none;\n",
              "      border-radius: 50%;\n",
              "      cursor: pointer;\n",
              "      display: none;\n",
              "      fill: #1967D2;\n",
              "      height: 32px;\n",
              "      padding: 0 0 0 0;\n",
              "      width: 32px;\n",
              "    }\n",
              "\n",
              "    .colab-df-convert:hover {\n",
              "      background-color: #E2EBFA;\n",
              "      box-shadow: 0px 1px 2px rgba(60, 64, 67, 0.3), 0px 1px 3px 1px rgba(60, 64, 67, 0.15);\n",
              "      fill: #174EA6;\n",
              "    }\n",
              "\n",
              "    [theme=dark] .colab-df-convert {\n",
              "      background-color: #3B4455;\n",
              "      fill: #D2E3FC;\n",
              "    }\n",
              "\n",
              "    [theme=dark] .colab-df-convert:hover {\n",
              "      background-color: #434B5C;\n",
              "      box-shadow: 0px 1px 3px 1px rgba(0, 0, 0, 0.15);\n",
              "      filter: drop-shadow(0px 1px 2px rgba(0, 0, 0, 0.3));\n",
              "      fill: #FFFFFF;\n",
              "    }\n",
              "  </style>\n",
              "\n",
              "      <script>\n",
              "        const buttonEl =\n",
              "          document.querySelector('#df-735687cf-1157-43d3-8fe0-b5655e1dec3d button.colab-df-convert');\n",
              "        buttonEl.style.display =\n",
              "          google.colab.kernel.accessAllowed ? 'block' : 'none';\n",
              "\n",
              "        async function convertToInteractive(key) {\n",
              "          const element = document.querySelector('#df-735687cf-1157-43d3-8fe0-b5655e1dec3d');\n",
              "          const dataTable =\n",
              "            await google.colab.kernel.invokeFunction('convertToInteractive',\n",
              "                                                     [key], {});\n",
              "          if (!dataTable) return;\n",
              "\n",
              "          const docLinkHtml = 'Like what you see? Visit the ' +\n",
              "            '<a target=\"_blank\" href=https://colab.research.google.com/notebooks/data_table.ipynb>data table notebook</a>'\n",
              "            + ' to learn more about interactive tables.';\n",
              "          element.innerHTML = '';\n",
              "          dataTable['output_type'] = 'display_data';\n",
              "          await google.colab.output.renderOutput(dataTable, element);\n",
              "          const docLink = document.createElement('div');\n",
              "          docLink.innerHTML = docLinkHtml;\n",
              "          element.appendChild(docLink);\n",
              "        }\n",
              "      </script>\n",
              "    </div>\n",
              "  </div>\n",
              "  "
            ]
          },
          "metadata": {},
          "execution_count": 34
        }
      ]
    },
    {
      "cell_type": "code",
      "source": [
        "#An NB classifier model for disease_1 vs. the top ranking (relevant) 5 attributes. Display the overall accuracy and the confusion matrix.\n",
        "# Generating the Gaussian Naive Bayes model\n",
        "from sklearn.naive_bayes import GaussianNB\n",
        "from sklearn.model_selection import train_test_split\n",
        "\n",
        "#Create a Gaussian Classifier\n",
        "NBmodel = GaussianNB()\n",
        "\n",
        "# Train the model using training set for approach #1\n",
        "# NBmodel.fit(features, labels) \n",
        "\n",
        "# Prepare input and output for learning\n",
        "X = encoded_derm['disease_1']\n",
        "y = encoded_derm.iloc[:,4]\n",
        "\n",
        "# In order to have the same proportion of 0 and 1 classes in a dataset to train, use 'stratify'\n",
        "X_train, X_test, y_train, y_test = \\\n",
        "    train_test_split(X, y, random_state=42, shuffle=True, test_size=0.35, stratify=y)\n",
        "\n",
        "# Display the sets\n",
        "print(X_train)\n",
        "print(X_test)\n"
      ],
      "metadata": {
        "id": "KHHs56FH-8WA",
        "colab": {
          "base_uri": "https://localhost:8080/",
          "height": 502
        },
        "outputId": "f0061971-8cc4-4f2d-8b9f-d932d92fd8b0"
      },
      "execution_count": null,
      "outputs": [
        {
          "output_type": "error",
          "ename": "KeyError",
          "evalue": "ignored",
          "traceback": [
            "\u001b[0;31m---------------------------------------------------------------------------\u001b[0m",
            "\u001b[0;31mKeyError\u001b[0m                                  Traceback (most recent call last)",
            "\u001b[0;32m/usr/local/lib/python3.7/dist-packages/pandas/core/indexes/base.py\u001b[0m in \u001b[0;36mget_loc\u001b[0;34m(self, key, method, tolerance)\u001b[0m\n\u001b[1;32m   3360\u001b[0m             \u001b[0;32mtry\u001b[0m\u001b[0;34m:\u001b[0m\u001b[0;34m\u001b[0m\u001b[0;34m\u001b[0m\u001b[0m\n\u001b[0;32m-> 3361\u001b[0;31m                 \u001b[0;32mreturn\u001b[0m \u001b[0mself\u001b[0m\u001b[0;34m.\u001b[0m\u001b[0m_engine\u001b[0m\u001b[0;34m.\u001b[0m\u001b[0mget_loc\u001b[0m\u001b[0;34m(\u001b[0m\u001b[0mcasted_key\u001b[0m\u001b[0;34m)\u001b[0m\u001b[0;34m\u001b[0m\u001b[0;34m\u001b[0m\u001b[0m\n\u001b[0m\u001b[1;32m   3362\u001b[0m             \u001b[0;32mexcept\u001b[0m \u001b[0mKeyError\u001b[0m \u001b[0;32mas\u001b[0m \u001b[0merr\u001b[0m\u001b[0;34m:\u001b[0m\u001b[0;34m\u001b[0m\u001b[0;34m\u001b[0m\u001b[0m\n",
            "\u001b[0;32m/usr/local/lib/python3.7/dist-packages/pandas/_libs/index.pyx\u001b[0m in \u001b[0;36mpandas._libs.index.IndexEngine.get_loc\u001b[0;34m()\u001b[0m\n",
            "\u001b[0;32m/usr/local/lib/python3.7/dist-packages/pandas/_libs/index.pyx\u001b[0m in \u001b[0;36mpandas._libs.index.IndexEngine.get_loc\u001b[0;34m()\u001b[0m\n",
            "\u001b[0;32mpandas/_libs/hashtable_class_helper.pxi\u001b[0m in \u001b[0;36mpandas._libs.hashtable.PyObjectHashTable.get_item\u001b[0;34m()\u001b[0m\n",
            "\u001b[0;32mpandas/_libs/hashtable_class_helper.pxi\u001b[0m in \u001b[0;36mpandas._libs.hashtable.PyObjectHashTable.get_item\u001b[0;34m()\u001b[0m\n",
            "\u001b[0;31mKeyError\u001b[0m: 'disease_1'",
            "\nThe above exception was the direct cause of the following exception:\n",
            "\u001b[0;31mKeyError\u001b[0m                                  Traceback (most recent call last)",
            "\u001b[0;32m<ipython-input-38-fff1832f4900>\u001b[0m in \u001b[0;36m<module>\u001b[0;34m()\u001b[0m\n\u001b[1;32m     11\u001b[0m \u001b[0;34m\u001b[0m\u001b[0m\n\u001b[1;32m     12\u001b[0m \u001b[0;31m# Prepare input and output for learning\u001b[0m\u001b[0;34m\u001b[0m\u001b[0;34m\u001b[0m\u001b[0;34m\u001b[0m\u001b[0m\n\u001b[0;32m---> 13\u001b[0;31m \u001b[0mX\u001b[0m \u001b[0;34m=\u001b[0m \u001b[0mencoded_derm\u001b[0m\u001b[0;34m[\u001b[0m\u001b[0;34m'disease_1'\u001b[0m\u001b[0;34m]\u001b[0m\u001b[0;34m\u001b[0m\u001b[0;34m\u001b[0m\u001b[0m\n\u001b[0m\u001b[1;32m     14\u001b[0m \u001b[0my\u001b[0m \u001b[0;34m=\u001b[0m \u001b[0mencoded_derm\u001b[0m\u001b[0;34m.\u001b[0m\u001b[0miloc\u001b[0m\u001b[0;34m[\u001b[0m\u001b[0;34m:\u001b[0m\u001b[0;34m,\u001b[0m\u001b[0;36m4\u001b[0m\u001b[0;34m]\u001b[0m\u001b[0;34m\u001b[0m\u001b[0;34m\u001b[0m\u001b[0m\n\u001b[1;32m     15\u001b[0m \u001b[0;34m\u001b[0m\u001b[0m\n",
            "\u001b[0;32m/usr/local/lib/python3.7/dist-packages/pandas/core/frame.py\u001b[0m in \u001b[0;36m__getitem__\u001b[0;34m(self, key)\u001b[0m\n\u001b[1;32m   3456\u001b[0m             \u001b[0;32mif\u001b[0m \u001b[0mself\u001b[0m\u001b[0;34m.\u001b[0m\u001b[0mcolumns\u001b[0m\u001b[0;34m.\u001b[0m\u001b[0mnlevels\u001b[0m \u001b[0;34m>\u001b[0m \u001b[0;36m1\u001b[0m\u001b[0;34m:\u001b[0m\u001b[0;34m\u001b[0m\u001b[0;34m\u001b[0m\u001b[0m\n\u001b[1;32m   3457\u001b[0m                 \u001b[0;32mreturn\u001b[0m \u001b[0mself\u001b[0m\u001b[0;34m.\u001b[0m\u001b[0m_getitem_multilevel\u001b[0m\u001b[0;34m(\u001b[0m\u001b[0mkey\u001b[0m\u001b[0;34m)\u001b[0m\u001b[0;34m\u001b[0m\u001b[0;34m\u001b[0m\u001b[0m\n\u001b[0;32m-> 3458\u001b[0;31m             \u001b[0mindexer\u001b[0m \u001b[0;34m=\u001b[0m \u001b[0mself\u001b[0m\u001b[0;34m.\u001b[0m\u001b[0mcolumns\u001b[0m\u001b[0;34m.\u001b[0m\u001b[0mget_loc\u001b[0m\u001b[0;34m(\u001b[0m\u001b[0mkey\u001b[0m\u001b[0;34m)\u001b[0m\u001b[0;34m\u001b[0m\u001b[0;34m\u001b[0m\u001b[0m\n\u001b[0m\u001b[1;32m   3459\u001b[0m             \u001b[0;32mif\u001b[0m \u001b[0mis_integer\u001b[0m\u001b[0;34m(\u001b[0m\u001b[0mindexer\u001b[0m\u001b[0;34m)\u001b[0m\u001b[0;34m:\u001b[0m\u001b[0;34m\u001b[0m\u001b[0;34m\u001b[0m\u001b[0m\n\u001b[1;32m   3460\u001b[0m                 \u001b[0mindexer\u001b[0m \u001b[0;34m=\u001b[0m \u001b[0;34m[\u001b[0m\u001b[0mindexer\u001b[0m\u001b[0;34m]\u001b[0m\u001b[0;34m\u001b[0m\u001b[0;34m\u001b[0m\u001b[0m\n",
            "\u001b[0;32m/usr/local/lib/python3.7/dist-packages/pandas/core/indexes/base.py\u001b[0m in \u001b[0;36mget_loc\u001b[0;34m(self, key, method, tolerance)\u001b[0m\n\u001b[1;32m   3361\u001b[0m                 \u001b[0;32mreturn\u001b[0m \u001b[0mself\u001b[0m\u001b[0;34m.\u001b[0m\u001b[0m_engine\u001b[0m\u001b[0;34m.\u001b[0m\u001b[0mget_loc\u001b[0m\u001b[0;34m(\u001b[0m\u001b[0mcasted_key\u001b[0m\u001b[0;34m)\u001b[0m\u001b[0;34m\u001b[0m\u001b[0;34m\u001b[0m\u001b[0m\n\u001b[1;32m   3362\u001b[0m             \u001b[0;32mexcept\u001b[0m \u001b[0mKeyError\u001b[0m \u001b[0;32mas\u001b[0m \u001b[0merr\u001b[0m\u001b[0;34m:\u001b[0m\u001b[0;34m\u001b[0m\u001b[0;34m\u001b[0m\u001b[0m\n\u001b[0;32m-> 3363\u001b[0;31m                 \u001b[0;32mraise\u001b[0m \u001b[0mKeyError\u001b[0m\u001b[0;34m(\u001b[0m\u001b[0mkey\u001b[0m\u001b[0;34m)\u001b[0m \u001b[0;32mfrom\u001b[0m \u001b[0merr\u001b[0m\u001b[0;34m\u001b[0m\u001b[0;34m\u001b[0m\u001b[0m\n\u001b[0m\u001b[1;32m   3364\u001b[0m \u001b[0;34m\u001b[0m\u001b[0m\n\u001b[1;32m   3365\u001b[0m         \u001b[0;32mif\u001b[0m \u001b[0mis_scalar\u001b[0m\u001b[0;34m(\u001b[0m\u001b[0mkey\u001b[0m\u001b[0;34m)\u001b[0m \u001b[0;32mand\u001b[0m \u001b[0misna\u001b[0m\u001b[0;34m(\u001b[0m\u001b[0mkey\u001b[0m\u001b[0;34m)\u001b[0m \u001b[0;32mand\u001b[0m \u001b[0;32mnot\u001b[0m \u001b[0mself\u001b[0m\u001b[0;34m.\u001b[0m\u001b[0mhasnans\u001b[0m\u001b[0;34m:\u001b[0m\u001b[0;34m\u001b[0m\u001b[0;34m\u001b[0m\u001b[0m\n",
            "\u001b[0;31mKeyError\u001b[0m: 'disease_1'"
          ]
        }
      ]
    },
    {
      "cell_type": "code",
      "source": [
        "#A decision tree model (Gini or Entropy) for the entire feature space vs. the disease column. Display the relevant information about the generated tree, and print the confusion matrix.\n",
        "from sklearn.tree import DecisionTreeClassifier\n",
        "from sklearn import tree\n",
        "# The CART tree\n",
        "cart_classifier = DecisionTreeClassifier(criterion = \"gini\", \n",
        "                                         max_leaf_nodes=5,\n",
        "                                         random_state = 120).fit(X_train, y_train)\n",
        "\n",
        "# Control the figure size\n",
        "from matplotlib.pyplot import figure\n",
        "figure(figsize=(10, 8), dpi=80)\n",
        "\n",
        "\n",
        "# Plot the tree\n",
        "cn = ['', '']\n",
        "tree.plot_tree(cart_classifier, feature_names=X.columns.values.tolist(), \n",
        "                                class_names=cn,\n",
        "                                filled = True)\n",
        "\n",
        "\n",
        "# Print the text version of the tree\n",
        "text_representation = tree.export_text(cart_classifier, \n",
        "                                       feature_names=X.columns.values.tolist())\n",
        "print(text_representation)"
      ],
      "metadata": {
        "colab": {
          "base_uri": "https://localhost:8080/",
          "height": 235
        },
        "id": "c7zi3AIBsIZ7",
        "outputId": "65c8a958-c31e-4e0d-d3be-ae68a9878ba1"
      },
      "execution_count": null,
      "outputs": [
        {
          "output_type": "error",
          "ename": "NameError",
          "evalue": "ignored",
          "traceback": [
            "\u001b[0;31m---------------------------------------------------------------------------\u001b[0m",
            "\u001b[0;31mNameError\u001b[0m                                 Traceback (most recent call last)",
            "\u001b[0;32m<ipython-input-41-f231c3b91ef8>\u001b[0m in \u001b[0;36m<module>\u001b[0;34m()\u001b[0m\n\u001b[1;32m      4\u001b[0m cart_classifier = DecisionTreeClassifier(criterion = \"gini\", \n\u001b[1;32m      5\u001b[0m                                          \u001b[0mmax_leaf_nodes\u001b[0m\u001b[0;34m=\u001b[0m\u001b[0;36m5\u001b[0m\u001b[0;34m,\u001b[0m\u001b[0;34m\u001b[0m\u001b[0;34m\u001b[0m\u001b[0m\n\u001b[0;32m----> 6\u001b[0;31m                                          random_state = 120).fit(X_train, y_train)\n\u001b[0m\u001b[1;32m      7\u001b[0m \u001b[0;34m\u001b[0m\u001b[0m\n\u001b[1;32m      8\u001b[0m \u001b[0;31m# Control the figure size\u001b[0m\u001b[0;34m\u001b[0m\u001b[0;34m\u001b[0m\u001b[0;34m\u001b[0m\u001b[0m\n",
            "\u001b[0;31mNameError\u001b[0m: name 'X_train' is not defined"
          ]
        }
      ]
    },
    {
      "cell_type": "code",
      "source": [
        "# Record CART's classification accuracy on tarining and test datasets\n",
        "score1 = round(cart_classifier.score(X_train, y_train), 2) # training score\n",
        "score2 = round(cart_classifier.score(X_test, y_test), 2)   # testing score\n",
        "\n",
        "print (\"CART Training and Testing scores: %.2f, %.2f\" %  (score1, score2))"
      ],
      "metadata": {
        "colab": {
          "base_uri": "https://localhost:8080/",
          "height": 235
        },
        "id": "VbceRMmsr7Zq",
        "outputId": "2c15abd4-70b3-4658-d708-a8eac7f0c792"
      },
      "execution_count": null,
      "outputs": [
        {
          "output_type": "error",
          "ename": "NameError",
          "evalue": "ignored",
          "traceback": [
            "\u001b[0;31m---------------------------------------------------------------------------\u001b[0m",
            "\u001b[0;31mNameError\u001b[0m                                 Traceback (most recent call last)",
            "\u001b[0;32m<ipython-input-42-28f4fa5da8f6>\u001b[0m in \u001b[0;36m<module>\u001b[0;34m()\u001b[0m\n\u001b[1;32m      1\u001b[0m \u001b[0;31m# Record CART's classification accuracy on tarining and test datasets\u001b[0m\u001b[0;34m\u001b[0m\u001b[0;34m\u001b[0m\u001b[0;34m\u001b[0m\u001b[0m\n\u001b[0;32m----> 2\u001b[0;31m \u001b[0mscore1\u001b[0m \u001b[0;34m=\u001b[0m \u001b[0mround\u001b[0m\u001b[0;34m(\u001b[0m\u001b[0mcart_classifier\u001b[0m\u001b[0;34m.\u001b[0m\u001b[0mscore\u001b[0m\u001b[0;34m(\u001b[0m\u001b[0mX_train\u001b[0m\u001b[0;34m,\u001b[0m \u001b[0my_train\u001b[0m\u001b[0;34m)\u001b[0m\u001b[0;34m,\u001b[0m \u001b[0;36m2\u001b[0m\u001b[0;34m)\u001b[0m \u001b[0;31m# training score\u001b[0m\u001b[0;34m\u001b[0m\u001b[0;34m\u001b[0m\u001b[0m\n\u001b[0m\u001b[1;32m      3\u001b[0m \u001b[0mscore2\u001b[0m \u001b[0;34m=\u001b[0m \u001b[0mround\u001b[0m\u001b[0;34m(\u001b[0m\u001b[0mcart_classifier\u001b[0m\u001b[0;34m.\u001b[0m\u001b[0mscore\u001b[0m\u001b[0;34m(\u001b[0m\u001b[0mX_test\u001b[0m\u001b[0;34m,\u001b[0m \u001b[0my_test\u001b[0m\u001b[0;34m)\u001b[0m\u001b[0;34m,\u001b[0m \u001b[0;36m2\u001b[0m\u001b[0;34m)\u001b[0m   \u001b[0;31m# testing score\u001b[0m\u001b[0;34m\u001b[0m\u001b[0;34m\u001b[0m\u001b[0m\n\u001b[1;32m      4\u001b[0m \u001b[0;34m\u001b[0m\u001b[0m\n\u001b[1;32m      5\u001b[0m \u001b[0mprint\u001b[0m \u001b[0;34m(\u001b[0m\u001b[0;34m\"CART Training and Testing scores: %.2f, %.2f\"\u001b[0m \u001b[0;34m%\u001b[0m  \u001b[0;34m(\u001b[0m\u001b[0mscore1\u001b[0m\u001b[0;34m,\u001b[0m \u001b[0mscore2\u001b[0m\u001b[0;34m)\u001b[0m\u001b[0;34m)\u001b[0m\u001b[0;34m\u001b[0m\u001b[0;34m\u001b[0m\u001b[0m\n",
            "\u001b[0;31mNameError\u001b[0m: name 'cart_classifier' is not defined"
          ]
        }
      ]
    },
    {
      "cell_type": "code",
      "source": [
        "from sklearn.metrics import confusion_matrix\n",
        "\n",
        "# Record CART's predictions\n",
        "cart_predictions = cart_classifier.predict(X_test)\n",
        "\n",
        "# Compute TP, TN, FP, FN values for CART\n",
        "cart_cm = confusion_matrix(y_true=y_test, \n",
        "                           y_pred = cart_predictions)\n",
        "\n",
        "# Print CART's confusion matrix\n",
        "print(cart_cm)"
      ],
      "metadata": {
        "colab": {
          "base_uri": "https://localhost:8080/",
          "height": 235
        },
        "id": "Wz2Xkoclr-jm",
        "outputId": "4e1623ed-1e73-475d-9e41-a5a54d89580d"
      },
      "execution_count": null,
      "outputs": [
        {
          "output_type": "error",
          "ename": "NameError",
          "evalue": "ignored",
          "traceback": [
            "\u001b[0;31m---------------------------------------------------------------------------\u001b[0m",
            "\u001b[0;31mNameError\u001b[0m                                 Traceback (most recent call last)",
            "\u001b[0;32m<ipython-input-43-eba7e83767ec>\u001b[0m in \u001b[0;36m<module>\u001b[0;34m()\u001b[0m\n\u001b[1;32m      2\u001b[0m \u001b[0;34m\u001b[0m\u001b[0m\n\u001b[1;32m      3\u001b[0m \u001b[0;31m# Record CART's predictions\u001b[0m\u001b[0;34m\u001b[0m\u001b[0;34m\u001b[0m\u001b[0;34m\u001b[0m\u001b[0m\n\u001b[0;32m----> 4\u001b[0;31m \u001b[0mcart_predictions\u001b[0m \u001b[0;34m=\u001b[0m \u001b[0mcart_classifier\u001b[0m\u001b[0;34m.\u001b[0m\u001b[0mpredict\u001b[0m\u001b[0;34m(\u001b[0m\u001b[0mX_test\u001b[0m\u001b[0;34m)\u001b[0m\u001b[0;34m\u001b[0m\u001b[0;34m\u001b[0m\u001b[0m\n\u001b[0m\u001b[1;32m      5\u001b[0m \u001b[0;34m\u001b[0m\u001b[0m\n\u001b[1;32m      6\u001b[0m \u001b[0;31m# Compute TP, TN, FP, FN values for CART\u001b[0m\u001b[0;34m\u001b[0m\u001b[0;34m\u001b[0m\u001b[0;34m\u001b[0m\u001b[0m\n",
            "\u001b[0;31mNameError\u001b[0m: name 'cart_classifier' is not defined"
          ]
        }
      ]
    },
    {
      "cell_type": "code",
      "source": [
        "#A random forest model for the entire feature space vs. the disease column. Display the relevant information about one of the generated trees, and print the confusion matrix. Plot the model's .feature_importances_ which is a measure of the accumulation of the impurity decrease within each tree.\n",
        "from sklearn.ensemble import RandomForestClassifier\n",
        "rnd_clf = RandomForestClassifier(n_estimators=500,\n",
        "                                 max_leaf_nodes=16,\n",
        "                                 n_jobs=1)\n",
        "rnd_clf.fit(X_train, y_train)\n",
        "y_pred_rf = rnd_clf.predict(X_test)"
      ],
      "metadata": {
        "id": "YHJ9iqI_APqc",
        "colab": {
          "base_uri": "https://localhost:8080/",
          "height": 218
        },
        "outputId": "eac65477-b73f-4088-fc69-2363ce448420"
      },
      "execution_count": null,
      "outputs": [
        {
          "output_type": "error",
          "ename": "NameError",
          "evalue": "ignored",
          "traceback": [
            "\u001b[0;31m---------------------------------------------------------------------------\u001b[0m",
            "\u001b[0;31mNameError\u001b[0m                                 Traceback (most recent call last)",
            "\u001b[0;32m<ipython-input-44-3fb902dea3f1>\u001b[0m in \u001b[0;36m<module>\u001b[0;34m()\u001b[0m\n\u001b[1;32m      4\u001b[0m                                  \u001b[0mmax_leaf_nodes\u001b[0m\u001b[0;34m=\u001b[0m\u001b[0;36m16\u001b[0m\u001b[0;34m,\u001b[0m\u001b[0;34m\u001b[0m\u001b[0;34m\u001b[0m\u001b[0m\n\u001b[1;32m      5\u001b[0m                                  n_jobs=1)\n\u001b[0;32m----> 6\u001b[0;31m \u001b[0mrnd_clf\u001b[0m\u001b[0;34m.\u001b[0m\u001b[0mfit\u001b[0m\u001b[0;34m(\u001b[0m\u001b[0mX_train\u001b[0m\u001b[0;34m,\u001b[0m \u001b[0my_train\u001b[0m\u001b[0;34m)\u001b[0m\u001b[0;34m\u001b[0m\u001b[0;34m\u001b[0m\u001b[0m\n\u001b[0m\u001b[1;32m      7\u001b[0m \u001b[0my_pred_rf\u001b[0m \u001b[0;34m=\u001b[0m \u001b[0mrnd_clf\u001b[0m\u001b[0;34m.\u001b[0m\u001b[0mpredict\u001b[0m\u001b[0;34m(\u001b[0m\u001b[0mX_test\u001b[0m\u001b[0;34m)\u001b[0m\u001b[0;34m\u001b[0m\u001b[0;34m\u001b[0m\u001b[0m\n",
            "\u001b[0;31mNameError\u001b[0m: name 'X_train' is not defined"
          ]
        }
      ]
    }
  ]
}