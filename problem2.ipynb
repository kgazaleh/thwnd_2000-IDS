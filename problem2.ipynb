{
  "nbformat": 4,
  "nbformat_minor": 0,
  "metadata": {
    "colab": {
      "name": "problem2.ipynb",
      "provenance": [],
      "authorship_tag": "ABX9TyPDSX/XIPBP62Ea/4cO6VMw",
      "include_colab_link": true
    },
    "kernelspec": {
      "name": "python3",
      "display_name": "Python 3"
    },
    "language_info": {
      "name": "python"
    }
  },
  "cells": [
    {
      "cell_type": "markdown",
      "metadata": {
        "id": "view-in-github",
        "colab_type": "text"
      },
      "source": [
        "<a href=\"https://colab.research.google.com/github/kgazaleh/thwnd_2000-IDS/blob/main/problem2.ipynb\" target=\"_parent\"><img src=\"https://colab.research.google.com/assets/colab-badge.svg\" alt=\"Open In Colab\"/></a>"
      ]
    },
    {
      "cell_type": "markdown",
      "source": [
        "Use the following data set: https://raw.githubusercontent.com/bforoura/IDS/main/HW5/wine_flag_all.csv (Links to an external site.)\n"
      ],
      "metadata": {
        "id": "kihhZSWKVNGn"
      }
    },
    {
      "cell_type": "markdown",
      "source": [
        "You will use the data set to demonstrate how we can use Naïve Bayes to classify a response variable. Specifically, we want to predict whether a wine is red or white based on whether the wine has high or low alcohol and sugar content."
      ],
      "metadata": {
        "id": "lHlRMGRcVN3s"
      }
    },
    {
      "cell_type": "code",
      "source": [
        "import pandas as pd\n",
        "import numpy as np\n",
        "\n",
        "wineDF = pd.read_csv(\"https://raw.githubusercontent.com/bforoura/IDS/main/HW5/wine_flag_all.csv\")\n",
        "\n",
        "wineDF"
      ],
      "metadata": {
        "colab": {
          "base_uri": "https://localhost:8080/",
          "height": 423
        },
        "id": "ALHUL1z-V2FJ",
        "outputId": "374b7810-bbfd-4226-f602-b65a91682bbd"
      },
      "execution_count": 21,
      "outputs": [
        {
          "output_type": "execute_result",
          "data": {
            "text/plain": [
              "       Type Alcohol_flag Sugar_flag\n",
              "0       Red         High       High\n",
              "1       Red         High        Low\n",
              "2       Red          Low       High\n",
              "3       Red         High        Low\n",
              "4       Red          Low        Low\n",
              "...     ...          ...        ...\n",
              "3340  White         High       High\n",
              "3341  White         High        Low\n",
              "3342  White         High        Low\n",
              "3343  White         High        Low\n",
              "3344  White         High        Low\n",
              "\n",
              "[3345 rows x 3 columns]"
            ],
            "text/html": [
              "\n",
              "  <div id=\"df-4ddc4e84-0aab-46f5-8bb5-cfc6071b719a\">\n",
              "    <div class=\"colab-df-container\">\n",
              "      <div>\n",
              "<style scoped>\n",
              "    .dataframe tbody tr th:only-of-type {\n",
              "        vertical-align: middle;\n",
              "    }\n",
              "\n",
              "    .dataframe tbody tr th {\n",
              "        vertical-align: top;\n",
              "    }\n",
              "\n",
              "    .dataframe thead th {\n",
              "        text-align: right;\n",
              "    }\n",
              "</style>\n",
              "<table border=\"1\" class=\"dataframe\">\n",
              "  <thead>\n",
              "    <tr style=\"text-align: right;\">\n",
              "      <th></th>\n",
              "      <th>Type</th>\n",
              "      <th>Alcohol_flag</th>\n",
              "      <th>Sugar_flag</th>\n",
              "    </tr>\n",
              "  </thead>\n",
              "  <tbody>\n",
              "    <tr>\n",
              "      <th>0</th>\n",
              "      <td>Red</td>\n",
              "      <td>High</td>\n",
              "      <td>High</td>\n",
              "    </tr>\n",
              "    <tr>\n",
              "      <th>1</th>\n",
              "      <td>Red</td>\n",
              "      <td>High</td>\n",
              "      <td>Low</td>\n",
              "    </tr>\n",
              "    <tr>\n",
              "      <th>2</th>\n",
              "      <td>Red</td>\n",
              "      <td>Low</td>\n",
              "      <td>High</td>\n",
              "    </tr>\n",
              "    <tr>\n",
              "      <th>3</th>\n",
              "      <td>Red</td>\n",
              "      <td>High</td>\n",
              "      <td>Low</td>\n",
              "    </tr>\n",
              "    <tr>\n",
              "      <th>4</th>\n",
              "      <td>Red</td>\n",
              "      <td>Low</td>\n",
              "      <td>Low</td>\n",
              "    </tr>\n",
              "    <tr>\n",
              "      <th>...</th>\n",
              "      <td>...</td>\n",
              "      <td>...</td>\n",
              "      <td>...</td>\n",
              "    </tr>\n",
              "    <tr>\n",
              "      <th>3340</th>\n",
              "      <td>White</td>\n",
              "      <td>High</td>\n",
              "      <td>High</td>\n",
              "    </tr>\n",
              "    <tr>\n",
              "      <th>3341</th>\n",
              "      <td>White</td>\n",
              "      <td>High</td>\n",
              "      <td>Low</td>\n",
              "    </tr>\n",
              "    <tr>\n",
              "      <th>3342</th>\n",
              "      <td>White</td>\n",
              "      <td>High</td>\n",
              "      <td>Low</td>\n",
              "    </tr>\n",
              "    <tr>\n",
              "      <th>3343</th>\n",
              "      <td>White</td>\n",
              "      <td>High</td>\n",
              "      <td>Low</td>\n",
              "    </tr>\n",
              "    <tr>\n",
              "      <th>3344</th>\n",
              "      <td>White</td>\n",
              "      <td>High</td>\n",
              "      <td>Low</td>\n",
              "    </tr>\n",
              "  </tbody>\n",
              "</table>\n",
              "<p>3345 rows × 3 columns</p>\n",
              "</div>\n",
              "      <button class=\"colab-df-convert\" onclick=\"convertToInteractive('df-4ddc4e84-0aab-46f5-8bb5-cfc6071b719a')\"\n",
              "              title=\"Convert this dataframe to an interactive table.\"\n",
              "              style=\"display:none;\">\n",
              "        \n",
              "  <svg xmlns=\"http://www.w3.org/2000/svg\" height=\"24px\"viewBox=\"0 0 24 24\"\n",
              "       width=\"24px\">\n",
              "    <path d=\"M0 0h24v24H0V0z\" fill=\"none\"/>\n",
              "    <path d=\"M18.56 5.44l.94 2.06.94-2.06 2.06-.94-2.06-.94-.94-2.06-.94 2.06-2.06.94zm-11 1L8.5 8.5l.94-2.06 2.06-.94-2.06-.94L8.5 2.5l-.94 2.06-2.06.94zm10 10l.94 2.06.94-2.06 2.06-.94-2.06-.94-.94-2.06-.94 2.06-2.06.94z\"/><path d=\"M17.41 7.96l-1.37-1.37c-.4-.4-.92-.59-1.43-.59-.52 0-1.04.2-1.43.59L10.3 9.45l-7.72 7.72c-.78.78-.78 2.05 0 2.83L4 21.41c.39.39.9.59 1.41.59.51 0 1.02-.2 1.41-.59l7.78-7.78 2.81-2.81c.8-.78.8-2.07 0-2.86zM5.41 20L4 18.59l7.72-7.72 1.47 1.35L5.41 20z\"/>\n",
              "  </svg>\n",
              "      </button>\n",
              "      \n",
              "  <style>\n",
              "    .colab-df-container {\n",
              "      display:flex;\n",
              "      flex-wrap:wrap;\n",
              "      gap: 12px;\n",
              "    }\n",
              "\n",
              "    .colab-df-convert {\n",
              "      background-color: #E8F0FE;\n",
              "      border: none;\n",
              "      border-radius: 50%;\n",
              "      cursor: pointer;\n",
              "      display: none;\n",
              "      fill: #1967D2;\n",
              "      height: 32px;\n",
              "      padding: 0 0 0 0;\n",
              "      width: 32px;\n",
              "    }\n",
              "\n",
              "    .colab-df-convert:hover {\n",
              "      background-color: #E2EBFA;\n",
              "      box-shadow: 0px 1px 2px rgba(60, 64, 67, 0.3), 0px 1px 3px 1px rgba(60, 64, 67, 0.15);\n",
              "      fill: #174EA6;\n",
              "    }\n",
              "\n",
              "    [theme=dark] .colab-df-convert {\n",
              "      background-color: #3B4455;\n",
              "      fill: #D2E3FC;\n",
              "    }\n",
              "\n",
              "    [theme=dark] .colab-df-convert:hover {\n",
              "      background-color: #434B5C;\n",
              "      box-shadow: 0px 1px 3px 1px rgba(0, 0, 0, 0.15);\n",
              "      filter: drop-shadow(0px 1px 2px rgba(0, 0, 0, 0.3));\n",
              "      fill: #FFFFFF;\n",
              "    }\n",
              "  </style>\n",
              "\n",
              "      <script>\n",
              "        const buttonEl =\n",
              "          document.querySelector('#df-4ddc4e84-0aab-46f5-8bb5-cfc6071b719a button.colab-df-convert');\n",
              "        buttonEl.style.display =\n",
              "          google.colab.kernel.accessAllowed ? 'block' : 'none';\n",
              "\n",
              "        async function convertToInteractive(key) {\n",
              "          const element = document.querySelector('#df-4ddc4e84-0aab-46f5-8bb5-cfc6071b719a');\n",
              "          const dataTable =\n",
              "            await google.colab.kernel.invokeFunction('convertToInteractive',\n",
              "                                                     [key], {});\n",
              "          if (!dataTable) return;\n",
              "\n",
              "          const docLinkHtml = 'Like what you see? Visit the ' +\n",
              "            '<a target=\"_blank\" href=https://colab.research.google.com/notebooks/data_table.ipynb>data table notebook</a>'\n",
              "            + ' to learn more about interactive tables.';\n",
              "          element.innerHTML = '';\n",
              "          dataTable['output_type'] = 'display_data';\n",
              "          await google.colab.output.renderOutput(dataTable, element);\n",
              "          const docLink = document.createElement('div');\n",
              "          docLink.innerHTML = docLinkHtml;\n",
              "          element.appendChild(docLink);\n",
              "        }\n",
              "      </script>\n",
              "    </div>\n",
              "  </div>\n",
              "  "
            ]
          },
          "metadata": {},
          "execution_count": 21
        }
      ]
    },
    {
      "cell_type": "markdown",
      "source": [
        "Test for presence any missing attribute/target values and impute as necessary."
      ],
      "metadata": {
        "id": "DRqag1eDVQzQ"
      }
    },
    {
      "cell_type": "code",
      "source": [
        "wineDF.isnull().sum()"
      ],
      "metadata": {
        "colab": {
          "base_uri": "https://localhost:8080/"
        },
        "id": "plFFtWxGWagw",
        "outputId": "d8b63d92-c031-4e9d-d4d0-ad361d3ea24c"
      },
      "execution_count": 22,
      "outputs": [
        {
          "output_type": "execute_result",
          "data": {
            "text/plain": [
              "Type            0\n",
              "Alcohol_flag    0\n",
              "Sugar_flag      0\n",
              "dtype: int64"
            ]
          },
          "metadata": {},
          "execution_count": 22
        }
      ]
    },
    {
      "cell_type": "markdown",
      "source": [
        "Encode all categoric attributes (e.g. label encoding or ordinal encoding, etc.)"
      ],
      "metadata": {
        "id": "HBtBDEgTVSg_"
      }
    },
    {
      "cell_type": "code",
      "source": [
        "#encode the categoric columns\n",
        "from sklearn import preprocessing\n",
        "le = preprocessing.LabelEncoder()\n",
        "\n",
        "# save the encoded dataframe here\n",
        "encoded_wineDF = pd.DataFrame()\n",
        "\n",
        "# Encode  only the categoric or boolean attributes (if any)\n",
        "for i in range(0, wineDF.shape[1]):\n",
        "    if wineDF.dtypes[i]=='object' or wineDF.dtypes[i]=='bool':\n",
        "        encoded_wineDF[wineDF.columns[i]] = le.fit_transform(wineDF[wineDF.columns[i]])\n",
        "    else:\n",
        "        encoded_wineDF[wineDF.columns[i]] = wineDF[wineDF.columns[i]]\n",
        "        \n",
        "encoded_wineDF.head(10)\n"
      ],
      "metadata": {
        "colab": {
          "base_uri": "https://localhost:8080/",
          "height": 363
        },
        "id": "c6TRBZJNWsnu",
        "outputId": "182371a4-14ff-41fd-eef4-890a89e4afae"
      },
      "execution_count": 23,
      "outputs": [
        {
          "output_type": "execute_result",
          "data": {
            "text/plain": [
              "   Type  Alcohol_flag  Sugar_flag\n",
              "0     0             0           0\n",
              "1     0             0           1\n",
              "2     0             1           0\n",
              "3     0             0           1\n",
              "4     0             1           1\n",
              "5     0             1           1\n",
              "6     0             0           1\n",
              "7     0             1           1\n",
              "8     0             1           1\n",
              "9     0             1           1"
            ],
            "text/html": [
              "\n",
              "  <div id=\"df-ca2eac0e-0595-4752-8bf4-e4caabf6096c\">\n",
              "    <div class=\"colab-df-container\">\n",
              "      <div>\n",
              "<style scoped>\n",
              "    .dataframe tbody tr th:only-of-type {\n",
              "        vertical-align: middle;\n",
              "    }\n",
              "\n",
              "    .dataframe tbody tr th {\n",
              "        vertical-align: top;\n",
              "    }\n",
              "\n",
              "    .dataframe thead th {\n",
              "        text-align: right;\n",
              "    }\n",
              "</style>\n",
              "<table border=\"1\" class=\"dataframe\">\n",
              "  <thead>\n",
              "    <tr style=\"text-align: right;\">\n",
              "      <th></th>\n",
              "      <th>Type</th>\n",
              "      <th>Alcohol_flag</th>\n",
              "      <th>Sugar_flag</th>\n",
              "    </tr>\n",
              "  </thead>\n",
              "  <tbody>\n",
              "    <tr>\n",
              "      <th>0</th>\n",
              "      <td>0</td>\n",
              "      <td>0</td>\n",
              "      <td>0</td>\n",
              "    </tr>\n",
              "    <tr>\n",
              "      <th>1</th>\n",
              "      <td>0</td>\n",
              "      <td>0</td>\n",
              "      <td>1</td>\n",
              "    </tr>\n",
              "    <tr>\n",
              "      <th>2</th>\n",
              "      <td>0</td>\n",
              "      <td>1</td>\n",
              "      <td>0</td>\n",
              "    </tr>\n",
              "    <tr>\n",
              "      <th>3</th>\n",
              "      <td>0</td>\n",
              "      <td>0</td>\n",
              "      <td>1</td>\n",
              "    </tr>\n",
              "    <tr>\n",
              "      <th>4</th>\n",
              "      <td>0</td>\n",
              "      <td>1</td>\n",
              "      <td>1</td>\n",
              "    </tr>\n",
              "    <tr>\n",
              "      <th>5</th>\n",
              "      <td>0</td>\n",
              "      <td>1</td>\n",
              "      <td>1</td>\n",
              "    </tr>\n",
              "    <tr>\n",
              "      <th>6</th>\n",
              "      <td>0</td>\n",
              "      <td>0</td>\n",
              "      <td>1</td>\n",
              "    </tr>\n",
              "    <tr>\n",
              "      <th>7</th>\n",
              "      <td>0</td>\n",
              "      <td>1</td>\n",
              "      <td>1</td>\n",
              "    </tr>\n",
              "    <tr>\n",
              "      <th>8</th>\n",
              "      <td>0</td>\n",
              "      <td>1</td>\n",
              "      <td>1</td>\n",
              "    </tr>\n",
              "    <tr>\n",
              "      <th>9</th>\n",
              "      <td>0</td>\n",
              "      <td>1</td>\n",
              "      <td>1</td>\n",
              "    </tr>\n",
              "  </tbody>\n",
              "</table>\n",
              "</div>\n",
              "      <button class=\"colab-df-convert\" onclick=\"convertToInteractive('df-ca2eac0e-0595-4752-8bf4-e4caabf6096c')\"\n",
              "              title=\"Convert this dataframe to an interactive table.\"\n",
              "              style=\"display:none;\">\n",
              "        \n",
              "  <svg xmlns=\"http://www.w3.org/2000/svg\" height=\"24px\"viewBox=\"0 0 24 24\"\n",
              "       width=\"24px\">\n",
              "    <path d=\"M0 0h24v24H0V0z\" fill=\"none\"/>\n",
              "    <path d=\"M18.56 5.44l.94 2.06.94-2.06 2.06-.94-2.06-.94-.94-2.06-.94 2.06-2.06.94zm-11 1L8.5 8.5l.94-2.06 2.06-.94-2.06-.94L8.5 2.5l-.94 2.06-2.06.94zm10 10l.94 2.06.94-2.06 2.06-.94-2.06-.94-.94-2.06-.94 2.06-2.06.94z\"/><path d=\"M17.41 7.96l-1.37-1.37c-.4-.4-.92-.59-1.43-.59-.52 0-1.04.2-1.43.59L10.3 9.45l-7.72 7.72c-.78.78-.78 2.05 0 2.83L4 21.41c.39.39.9.59 1.41.59.51 0 1.02-.2 1.41-.59l7.78-7.78 2.81-2.81c.8-.78.8-2.07 0-2.86zM5.41 20L4 18.59l7.72-7.72 1.47 1.35L5.41 20z\"/>\n",
              "  </svg>\n",
              "      </button>\n",
              "      \n",
              "  <style>\n",
              "    .colab-df-container {\n",
              "      display:flex;\n",
              "      flex-wrap:wrap;\n",
              "      gap: 12px;\n",
              "    }\n",
              "\n",
              "    .colab-df-convert {\n",
              "      background-color: #E8F0FE;\n",
              "      border: none;\n",
              "      border-radius: 50%;\n",
              "      cursor: pointer;\n",
              "      display: none;\n",
              "      fill: #1967D2;\n",
              "      height: 32px;\n",
              "      padding: 0 0 0 0;\n",
              "      width: 32px;\n",
              "    }\n",
              "\n",
              "    .colab-df-convert:hover {\n",
              "      background-color: #E2EBFA;\n",
              "      box-shadow: 0px 1px 2px rgba(60, 64, 67, 0.3), 0px 1px 3px 1px rgba(60, 64, 67, 0.15);\n",
              "      fill: #174EA6;\n",
              "    }\n",
              "\n",
              "    [theme=dark] .colab-df-convert {\n",
              "      background-color: #3B4455;\n",
              "      fill: #D2E3FC;\n",
              "    }\n",
              "\n",
              "    [theme=dark] .colab-df-convert:hover {\n",
              "      background-color: #434B5C;\n",
              "      box-shadow: 0px 1px 3px 1px rgba(0, 0, 0, 0.15);\n",
              "      filter: drop-shadow(0px 1px 2px rgba(0, 0, 0, 0.3));\n",
              "      fill: #FFFFFF;\n",
              "    }\n",
              "  </style>\n",
              "\n",
              "      <script>\n",
              "        const buttonEl =\n",
              "          document.querySelector('#df-ca2eac0e-0595-4752-8bf4-e4caabf6096c button.colab-df-convert');\n",
              "        buttonEl.style.display =\n",
              "          google.colab.kernel.accessAllowed ? 'block' : 'none';\n",
              "\n",
              "        async function convertToInteractive(key) {\n",
              "          const element = document.querySelector('#df-ca2eac0e-0595-4752-8bf4-e4caabf6096c');\n",
              "          const dataTable =\n",
              "            await google.colab.kernel.invokeFunction('convertToInteractive',\n",
              "                                                     [key], {});\n",
              "          if (!dataTable) return;\n",
              "\n",
              "          const docLinkHtml = 'Like what you see? Visit the ' +\n",
              "            '<a target=\"_blank\" href=https://colab.research.google.com/notebooks/data_table.ipynb>data table notebook</a>'\n",
              "            + ' to learn more about interactive tables.';\n",
              "          element.innerHTML = '';\n",
              "          dataTable['output_type'] = 'display_data';\n",
              "          await google.colab.output.renderOutput(dataTable, element);\n",
              "          const docLink = document.createElement('div');\n",
              "          docLink.innerHTML = docLinkHtml;\n",
              "          element.appendChild(docLink);\n",
              "        }\n",
              "      </script>\n",
              "    </div>\n",
              "  </div>\n",
              "  "
            ]
          },
          "metadata": {},
          "execution_count": 23
        }
      ]
    },
    {
      "cell_type": "markdown",
      "source": [
        "Create contingency tables (cross tabulations) for:\n",
        "a. Type vs. alcohol content\n",
        "b. Type vs. Sugar content"
      ],
      "metadata": {
        "id": "YcEGXjZ9VVtT"
      }
    },
    {
      "cell_type": "code",
      "source": [
        "# Cross tabulation for Type vs. alcohol content\n",
        "\n",
        "crosstab1 = pd.crosstab(wineDF.Type, wineDF.Alcohol_flag)\n",
        "\n",
        "print(crosstab1)"
      ],
      "metadata": {
        "colab": {
          "base_uri": "https://localhost:8080/"
        },
        "id": "1Tuh68CXiurs",
        "outputId": "4bffdfc2-f85d-4c07-c1d4-0e70bb9d302a"
      },
      "execution_count": 24,
      "outputs": [
        {
          "output_type": "stream",
          "name": "stdout",
          "text": [
            "Alcohol_flag  High   Low\n",
            "Type                    \n",
            "Red            485   600\n",
            "White         1176  1084\n"
          ]
        }
      ]
    },
    {
      "cell_type": "code",
      "source": [
        "# Cross tabulation for Type vs. Sugar content\n",
        "\n",
        "crosstab2 = pd.crosstab(wineDF.Type, wineDF.Sugar_flag)\n",
        "print(crosstab2)"
      ],
      "metadata": {
        "colab": {
          "base_uri": "https://localhost:8080/"
        },
        "id": "ccmjWHBoi-W1",
        "outputId": "f8aff0fe-7b55-4718-8e29-c1898b058240"
      },
      "execution_count": 25,
      "outputs": [
        {
          "output_type": "stream",
          "name": "stdout",
          "text": [
            "Sugar_flag  High  Low\n",
            "Type                 \n",
            "Red          237  848\n",
            "White       1382  878\n"
          ]
        }
      ]
    },
    {
      "cell_type": "markdown",
      "source": [
        "Plot the two cross tabulations obtained in Step 5."
      ],
      "metadata": {
        "id": "bsU-PSizVY_m"
      }
    },
    {
      "cell_type": "code",
      "source": [
        "# Create barplot for Type vs. Alcohol Content\n",
        "\n",
        "barplot1 = crosstab1.plot.bar(rot=0)"
      ],
      "metadata": {
        "colab": {
          "base_uri": "https://localhost:8080/",
          "height": 279
        },
        "id": "3frqkzuSkLEJ",
        "outputId": "411536b7-893e-468f-8ce8-006b973873f0"
      },
      "execution_count": 26,
      "outputs": [
        {
          "output_type": "display_data",
          "data": {
            "text/plain": [
              "<Figure size 432x288 with 1 Axes>"
            ],
            "image/png": "[encoded data removed]"
          },
          "metadata": {
            "needs_background": "light"
          }
        }
      ]
    },
    {
      "cell_type": "code",
      "source": [
        "# Create barplot for Type vs. Sugar Content\n",
        "\n",
        "barplot2 = crosstab2.plot.bar(rot=0)"
      ],
      "metadata": {
        "colab": {
          "base_uri": "https://localhost:8080/",
          "height": 279
        },
        "id": "iNBWUtI4kTbH",
        "outputId": "8ddf209e-7e29-4c96-c9cd-d6f8cf231553"
      },
      "execution_count": 27,
      "outputs": [
        {
          "output_type": "display_data",
          "data": {
            "text/plain": [
              "<Figure size 432x288 with 1 Axes>"
            ],
            "image/png": "[encoded data removed]"
          },
          "metadata": {
            "needs_background": "light"
          }
        }
      ]
    },
    {
      "cell_type": "markdown",
      "source": [
        "Use the tables from the previous step to calculate:\n",
        "\n",
        "a. The prior probability of Type = Red and Type = White.\n",
        "  \n",
        "  P(Type = Red) = 1085/3345 = 0.32\n",
        "  \n",
        "  P(Type = White) = 2260/3345 = 0.68\n",
        "\n",
        "b. The probability of high and low alcohol content.\n",
        " \n",
        "  P(Alcohol_flag = High) = (485+1176)/3345 = 0.50\n",
        "\n",
        "  P(Alcohol_flag = Low) = (600+1084)/3345 = 0.50\n",
        "\n",
        "c. The probability of high and low sugar content.\n",
        "\n",
        "  P(Sugar_flag = High) = (237+1382)/3345 = 0.48\n",
        "\n",
        "  P(Sugar_flag = Low) = (848+878)/3345 = 0.52\n",
        "\n",
        "d. The conditional probabilities p(Alcohol_flag = High ∣ Type = Red) and p(Alcohol_flag = Low ∣ Type = Red).\n",
        "\n",
        "P(Alcohol_flag = High | Type = Red) = 485/1085 = 0.45\n",
        "\n",
        "P(Alcohol_flag = Low | Type = Red) = 600/1085 = 0.55\n",
        "\n",
        "e. The conditional probabilities p(Sugar_flag = High ∣ Type = Red) and p(Sugar_flag = Low ∣ Type = Red).\n",
        "\n",
        "P(Sugar_flag = High | Type = Red) = 237/1085 = 0.22\n",
        "\n",
        "P(Sugar_flag = Low | Type = Red) = 848/1085 = 0.78"
      ],
      "metadata": {
        "id": "WOdeC3fJVcat"
      }
    },
    {
      "cell_type": "markdown",
      "source": [
        "Create NB classifiers and record their accuracy on various training/test ratios, e.g., 80-20, 75-25, 70-30, 60-40, 50-50. Be sure to shuffle and stratify the data sets."
      ],
      "metadata": {
        "id": "Z_DUYNKNVjcL"
      }
    },
    {
      "cell_type": "code",
      "source": [
        "# Generating the Gaussian Naive Bayes model\n",
        "from sklearn.naive_bayes import GaussianNB\n",
        "from sklearn.model_selection import train_test_split\n",
        "\n",
        "#Create a Gaussian Classifier\n",
        "NBmodel = GaussianNB()\n",
        "\n",
        "# Prepare input and output for learning\n",
        "X = encoded_wineDF.iloc[:,0:2]\n",
        "y = encoded_wineDF.iloc[:,0:3345]\n",
        "\n",
        "# In order to have the same proportion of 0 and 1 classes in a dataset to train, use 'stratify'\n",
        "X_train, X_test, y_train, y_test = \\\n",
        "    train_test_split(X, y, random_state=42, shuffle=True, test_size=0.35, stratify=y)\n",
        "\n",
        "# Display the sets\n",
        "print(X_train)\n",
        "print(X_test)\n"
      ],
      "metadata": {
        "colab": {
          "base_uri": "https://localhost:8080/"
        },
        "id": "oBp7qYI12LT9",
        "outputId": "830033e2-cd5c-4676-84bb-ded9af672444"
      },
      "execution_count": 38,
      "outputs": [
        {
          "output_type": "stream",
          "name": "stdout",
          "text": [
            "      Type  Alcohol_flag\n",
            "1987     1             1\n",
            "1197     0             1\n",
            "411      0             1\n",
            "829      1             0\n",
            "1958     1             1\n",
            "...    ...           ...\n",
            "2396     1             1\n",
            "2819     1             0\n",
            "2354     1             1\n",
            "1416     0             0\n",
            "1222     0             1\n",
            "\n",
            "[2174 rows x 2 columns]\n",
            "      Type  Alcohol_flag\n",
            "2956     1             0\n",
            "2746     1             0\n",
            "664      1             0\n",
            "3328     1             0\n",
            "13       0             1\n",
            "...    ...           ...\n",
            "1745     1             1\n",
            "930      1             0\n",
            "1015     0             1\n",
            "954      1             0\n",
            "2039     1             1\n",
            "\n",
            "[1171 rows x 2 columns]\n"
          ]
        }
      ]
    },
    {
      "cell_type": "markdown",
      "source": [
        "Plot the model accuracy measures obtained in Step 8."
      ],
      "metadata": {
        "id": "zTbigQLzVl4R"
      }
    },
    {
      "cell_type": "code",
      "source": [
        "import matplotlib.pyplot as plt\n",
        "\n",
        "# Train the model \n",
        "NBmodel.fit(X_train, y_train)\n",
        "\n",
        "# Calculate model accuracy on both training and test data\n",
        "labels = [\"Training\", \"Test\"]\n",
        "scores = [NBmodel.score(X_train, y_train), NBmodel.score(X_test, y_test)]\n",
        "\n",
        "\n",
        "# Plot the accuracy clauses\n",
        "fig = plt.figure()\n",
        "ax = fig.add_axes([0,0,1,1])\n",
        "ax.set_title('Model Classification Accuracy on Training vs. Test Data')\n",
        "ax.bar(labels, scores, color=\"orange\")\n",
        "ax.set_ylim(0, 1)\n",
        "plt.show()"
      ],
      "metadata": {
        "id": "rO316jox4Pen"
      },
      "execution_count": null,
      "outputs": []
    },
    {
      "cell_type": "markdown",
      "source": [
        "# Summary\n",
        "Approximately 2/3 of the wines were white and the other 1/3 was red. The probability of high alcohol content was equal to the probability of low alcohol content. Overall, the probability of high sugar content and low sugar content were also equal. However, the if the wine was red, it was pretty likely that the sugar content would be low."
      ],
      "metadata": {
        "id": "C6b33DbkVn5V"
      }
    }
  ]
}