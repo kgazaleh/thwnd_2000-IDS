{
  "nbformat": 4,
  "nbformat_minor": 0,
  "metadata": {
    "colab": {
      "name": "problem1_r.ipynp",
      "provenance": [],
      "collapsed_sections": [],
      "authorship_tag": "ABX9TyN6+TaGmGAz5/OW4w4WBsk2",
      "include_colab_link": true
    },
    "kernelspec": {
      "name": "python3",
      "display_name": "Python 3"
    },
    "language_info": {
      "name": "python"
    }
  },
  "cells": [
    {
      "cell_type": "markdown",
      "metadata": {
        "id": "view-in-github",
        "colab_type": "text"
      },
      "source": [
        "<a href=\"https://colab.research.google.com/github/kgazaleh/thwnd_2000-IDS/blob/main/problem1_r_ipynp.ipynb\" target=\"_parent\"><img src=\"https://colab.research.google.com/assets/colab-badge.svg\" alt=\"Open In Colab\"/></a>"
      ]
    },
    {
      "cell_type": "markdown",
      "source": [
        "Use the following dataset about adults: https://github.com/bforoura/IDS/blob/main/HW4/adult_training.csv"
      ],
      "metadata": {
        "id": "j_wIS9mydhpN"
      }
    },
    {
      "cell_type": "markdown",
      "source": [
        "Create a contingency table of workclass and sex, and plot it."
      ],
      "metadata": {
        "id": "T6NQe7J0dk6Q"
      }
    },
    {
      "cell_type": "code",
      "source": [
        "# Start rmagic to mix Python and R code sells\n",
        "%load_ext rpy2.ipython"
      ],
      "metadata": {
        "id": "DNMFHXlEdmB2"
      },
      "execution_count": null,
      "outputs": []
    },
    {
      "cell_type": "code",
      "source": [
        "#import data from github\n",
        "\n",
        "%%R\n",
        "\n",
        "library(readr)\n",
        "adult_trainingDF <- read_csv(\"https://raw.githubusercontent.com/kgazaleh/thwnd_2000-IDS/main/HW4/adult_training.csv\", show_col_types = FALSE)\n",
        "\n",
        "summary(adult_trainingDF)"
      ],
      "metadata": {
        "colab": {
          "base_uri": "https://localhost:8080/"
        },
        "id": "52_lz6Ufdv0h",
        "outputId": "084b3424-0fec-481b-e78c-ffacdab71b38"
      },
      "execution_count": null,
      "outputs": [
        {
          "output_type": "stream",
          "name": "stdout",
          "text": [
            "      age         workclass           education     marital-status    \n",
            " Min.   :17.00   Length:14797       Min.   : 1.00   Length:14797      \n",
            " 1st Qu.:28.00   Class :character   1st Qu.: 9.00   Class :character  \n",
            " Median :37.00   Mode  :character   Median :10.00   Mode  :character  \n",
            " Mean   :38.69                      Mean   :10.07                     \n",
            " 3rd Qu.:48.00                      3rd Qu.:12.00                     \n",
            " Max.   :90.00                      Max.   :16.00                     \n",
            "  occupation            sex             capital-gain    capital-loss    \n",
            " Length:14797       Length:14797       Min.   :    0   Min.   :   0.00  \n",
            " Class :character   Class :character   1st Qu.:    0   1st Qu.:   0.00  \n",
            " Mode  :character   Mode  :character   Median :    0   Median :   0.00  \n",
            "                                       Mean   : 1067   Mean   :  88.58  \n",
            "                                       3rd Qu.:    0   3rd Qu.:   0.00  \n",
            "                                       Max.   :99999   Max.   :4356.00  \n",
            "    income         \n",
            " Length:14797      \n",
            " Class :character  \n",
            " Mode  :character  \n",
            "                   \n",
            "                   \n",
            "                   \n"
          ]
        }
      ]
    },
    {
      "cell_type": "code",
      "source": [
        "# Cross tabulation of workclass and sex\n",
        "\n",
        "%%R\n",
        "\n",
        "\n",
        "r_crosstab <- table(adult_trainingDF$workclass, adult_trainingDF$sex)\n",
        "\n",
        "ftable(r_crosstab)"
      ],
      "metadata": {
        "colab": {
          "base_uri": "https://localhost:8080/"
        },
        "id": "DuTqWAUKeNCZ",
        "outputId": "755fd682-2c98-43a4-86e8-e98b3c98e394"
      },
      "execution_count": null,
      "outputs": [
        {
          "output_type": "stream",
          "name": "stdout",
          "text": [
            "                  Female Male\n",
            "                             \n",
            "?                    377  452\n",
            "Federal-gov          149  305\n",
            "Local-gov            377  592\n",
            "Never-worked           1    4\n",
            "Private             3574 6707\n",
            "Self-emp-inc          54  444\n",
            "Self-emp-not-inc     178  992\n",
            "State-gov            201  385\n",
            "Without-pay            1    4\n"
          ]
        }
      ]
    },
    {
      "cell_type": "code",
      "source": [
        "#create barplot\n",
        "\n",
        "%%R\n",
        "\n",
        "colors <- c(\"navy\", \"orange\", \"brown\", \"red\", \"yellow\", \"green\", \"blue\", \"purple\", \"pink\")\n",
        "\n",
        "barplot(r_crosstab, col = colors, beside = TRUE)\n",
        "legend(\"topright\", legend = c(\"?\", \"Federal-gov\", \"Local-gov\", \"Never-worked\", \"Private\", \"Self-emp-inc\", \"Self-emp-not-inc\", \"State-gov\", \"Without-pay\"), fill = colors)"
      ],
      "metadata": {
        "colab": {
          "base_uri": "https://localhost:8080/",
          "height": 497
        },
        "id": "Tb-VBwSceZME",
        "outputId": "ce1839a7-08eb-4804-d4e4-9b378f49fa2b"
      },
      "execution_count": null,
      "outputs": [
        {
          "output_type": "display_data",
          "data": {
            "image/png": "[encoded data removed]"
          },
          "metadata": {}
        }
      ]
    },
    {
      "cell_type": "code",
      "source": [
        "#change name of marital column\n",
        "\n",
        "%%R\n",
        "\n",
        "names(adult_trainingDF)[4] <- \"marital\""
      ],
      "metadata": {
        "id": "3VsR8TlLa4_N"
      },
      "execution_count": null,
      "outputs": []
    },
    {
      "cell_type": "code",
      "source": [
        "# Cross tabulation of sex and marital status\n",
        "\n",
        "%%R\n",
        "\n",
        "r_crosstab <- table(adult_trainingDF$sex, adult_trainingDF$marital)\n",
        "\n",
        "ftable(r_crosstab)\n"
      ],
      "metadata": {
        "colab": {
          "base_uri": "https://localhost:8080/"
        },
        "id": "t0bBG-RwpoOb",
        "outputId": "56a4242b-e195-4f2d-f635-c4ee3879ca62"
      },
      "execution_count": null,
      "outputs": [
        {
          "output_type": "stream",
          "name": "stdout",
          "text": [
            "        Divorced Married-AF-spouse Married-civ-spouse Married-spouse-absent Never-married Separated Widowed\n",
            "                                                                                                           \n",
            "Female      1219                 7                761                    95          2160       290     380\n",
            "Male         795                 4               6010                   104          2717       182      73\n"
          ]
        }
      ]
    },
    {
      "cell_type": "markdown",
      "source": [
        "Create a new data frame, adultOver40, for those whose age > 40.\n"
      ],
      "metadata": {
        "id": "JL5yX29GE68S"
      }
    },
    {
      "cell_type": "code",
      "source": [
        "#Create new data frame\n",
        "%%R\n",
        "\n",
        "adultOver40 <- adult_trainingDF[(adult_trainingDF$age > 40),]\n",
        "\n",
        "summary(adultOver40)"
      ],
      "metadata": {
        "id": "jHrDGNaohlMt",
        "colab": {
          "base_uri": "https://localhost:8080/"
        },
        "outputId": "002a35a4-484b-44eb-fae1-8eeb583d3884"
      },
      "execution_count": null,
      "outputs": [
        {
          "output_type": "stream",
          "name": "stdout",
          "text": [
            "      age         workclass           education       marital         \n",
            " Min.   :41.00   Length:6144        Min.   : 1.00   Length:6144       \n",
            " 1st Qu.:45.00   Class :character   1st Qu.: 9.00   Class :character  \n",
            " Median :50.00   Mode  :character   Median :10.00   Mode  :character  \n",
            " Mean   :52.08                      Mean   :10.15                     \n",
            " 3rd Qu.:57.00                      3rd Qu.:13.00                     \n",
            " Max.   :90.00                      Max.   :16.00                     \n",
            "  occupation            sex             capital-gain    capital-loss   \n",
            " Length:6144        Length:6144        Min.   :    0   Min.   :   0.0  \n",
            " Class :character   Class :character   1st Qu.:    0   1st Qu.:   0.0  \n",
            " Mode  :character   Mode  :character   Median :    0   Median :   0.0  \n",
            "                                       Mean   : 1598   Mean   : 115.3  \n",
            "                                       3rd Qu.:    0   3rd Qu.:   0.0  \n",
            "                                       Max.   :99999   Max.   :4356.0  \n",
            "    income         \n",
            " Length:6144       \n",
            " Class :character  \n",
            " Mode  :character  \n",
            "                   \n",
            "                   \n",
            "                   \n"
          ]
        }
      ]
    },
    {
      "cell_type": "markdown",
      "source": [
        "Recreate the contingency table of sex and marital status for adultOver40.\n"
      ],
      "metadata": {
        "id": "EcpAPxFBE861"
      }
    },
    {
      "cell_type": "code",
      "source": [
        "#Recreation of contingency table for sex and marital status for new df\n",
        "%%R\n",
        "\n",
        "r_crosstab <- table(adultOver40$sex, adultOver40$marital)\n",
        "\n",
        "ftable(r_crosstab)"
      ],
      "metadata": {
        "id": "Vt9p6Gnrib06",
        "colab": {
          "base_uri": "https://localhost:8080/"
        },
        "outputId": "9ab95733-6818-4b2e-d96e-3be40df80ff1"
      },
      "execution_count": null,
      "outputs": [
        {
          "output_type": "stream",
          "name": "stdout",
          "text": [
            "        Divorced Married-civ-spouse Married-spouse-absent Never-married Separated Widowed\n",
            "                                                                                         \n",
            "Female       720                305                    38           256       133     354\n",
            "Male         448               3383                    47           315        74      71\n"
          ]
        }
      ]
    },
    {
      "cell_type": "markdown",
      "source": [
        "Determine whether any outliers exist for the education field. \n"
      ],
      "metadata": {
        "id": "CdfjvhgoE-4v"
      }
    },
    {
      "cell_type": "code",
      "source": [
        "# scale education\n",
        "\n",
        "%%R\n",
        "\n",
        "adult_trainingDF$scaled_education <- scale(x = adult_trainingDF$education)\n",
        "\n",
        "summary(adult_trainingDF$scaled_education)"
      ],
      "metadata": {
        "colab": {
          "base_uri": "https://localhost:8080/"
        },
        "id": "sp_NdfMTiDK5",
        "outputId": "f3f3a90b-2cdb-4b2c-a585-bfc54b0e141b"
      },
      "execution_count": null,
      "outputs": [
        {
          "output_type": "stream",
          "name": "stdout",
          "text": [
            "       V1          \n",
            " Min.   :-3.49029  \n",
            " 1st Qu.:-0.41135  \n",
            " Median :-0.02648  \n",
            " Mean   : 0.00000  \n",
            " 3rd Qu.: 0.74326  \n",
            " Max.   : 2.28273  \n"
          ]
        }
      ]
    },
    {
      "cell_type": "code",
      "source": [
        "# Determine the three sigma rule first for the scaled_education attribute\n",
        "%%R\n",
        "\n",
        "three_sigma_rule <- (adult_trainingDF$scaled_education < -3 | \n",
        "                     adult_trainingDF$scaled_education > 3 )\n",
        "\n",
        "\n",
        "# how many outliers are there?\n",
        "cat (\"There are\", sum(three_sigma_rule), \"outliers \\n\\n\")\n"
      ],
      "metadata": {
        "colab": {
          "base_uri": "https://localhost:8080/"
        },
        "id": "XofUwPEfitjg",
        "outputId": "94a48352-f835-4a04-c56a-481a52aa6b33"
      },
      "execution_count": null,
      "outputs": [
        {
          "output_type": "stream",
          "name": "stdout",
          "text": [
            "There are 113 outliers \n",
            "\n"
          ]
        }
      ]
    },
    {
      "cell_type": "markdown",
      "source": [
        "Standardize (zero mean) the age variable, and identify how many outliers there are. What is the most extreme outlier?\n"
      ],
      "metadata": {
        "id": "5a2ZG-LaFA8j"
      }
    },
    {
      "cell_type": "code",
      "source": [
        "# need to find most extreme outlier\n",
        "\n",
        "# scale age\n",
        "\n",
        "%%R\n",
        "\n",
        "adult_trainingDF$scaled_age <- scale(x = adult_trainingDF$age)\n",
        "\n",
        "summary(adult_trainingDF$scaled_age)\n",
        "\n",
        "# Determine the three sigma rule first for the scaled_age attribute\n",
        "\n",
        "three_sigma_rule <- (adult_trainingDF$scaled_age < -3 | \n",
        "                     adult_trainingDF$scaled_age > 3 )\n",
        "\n",
        "# how many outliers are there?\n",
        "cat (\"There are\", sum(three_sigma_rule), \"outliers \\n\\n\")\n",
        "\n",
        "cat(\"The scaled age values that are outliers: \\n\\n\")\n",
        "adult_trainingDF$scaled_age[which(three_sigma_rule)]"
      ],
      "metadata": {
        "id": "hgpmrt3UjJjK",
        "colab": {
          "base_uri": "https://localhost:8080/"
        },
        "outputId": "80a47304-f8ab-437f-c118-02e499367d70"
      },
      "execution_count": null,
      "outputs": [
        {
          "output_type": "stream",
          "name": "stdout",
          "text": [
            "There are 60 outliers \n",
            "\n",
            "The scaled age values that are outliers: \n",
            "\n",
            " [1] 3.751227 3.020173 3.751227 3.605016 3.751227 3.751227 3.166384 3.751227\n",
            " [9] 3.020173 3.751227 3.751227 3.239489 3.385700 3.166384 3.020173 3.751227\n",
            "[17] 3.020173 3.751227 3.312594 3.751227 3.751227 3.312594 3.020173 3.751227\n",
            "[25] 3.312594 3.751227 3.093278 3.020173 3.020173 3.751227 3.020173 3.751227\n",
            "[33] 3.239489 3.166384 3.751227 3.751227 3.166384 3.385700 3.093278 3.093278\n",
            "[41] 3.751227 3.166384 3.605016 3.312594 3.458805 3.751227 3.166384 3.093278\n",
            "[49] 3.751227 3.020173 3.312594 3.751227 3.093278 3.751227 3.531911 3.020173\n",
            "[57] 3.166384 3.751227 3.385700 3.166384\n"
          ]
        }
      ]
    },
    {
      "cell_type": "code",
      "source": [
        "%%R\n",
        "\n",
        "summary(adult_trainingDF$scaled_age)"
      ],
      "metadata": {
        "colab": {
          "base_uri": "https://localhost:8080/"
        },
        "id": "WQH7wZlsJgB0",
        "outputId": "f1e60848-4d34-4862-81f6-512756d6574c"
      },
      "execution_count": null,
      "outputs": [
        {
          "output_type": "stream",
          "name": "stdout",
          "text": [
            "       V1         \n",
            " Min.   :-1.5855  \n",
            " 1st Qu.:-0.7813  \n",
            " Median :-0.1234  \n",
            " Mean   : 0.0000  \n",
            " 3rd Qu.: 0.6808  \n",
            " Max.   : 3.7512  \n"
          ]
        }
      ]
    },
    {
      "cell_type": "markdown",
      "source": [
        "The most extreme outlier is 3.7512 (scaled)."
      ],
      "metadata": {
        "id": "7WIo56cSJPHf"
      }
    },
    {
      "cell_type": "markdown",
      "source": [
        "Age anomaly? Select only records with age  at least 80, and construct a histogram of age. Explain what you see.\n"
      ],
      "metadata": {
        "id": "mSicUlp6FDQ9"
      }
    },
    {
      "cell_type": "code",
      "source": [
        "#Select only records with age at least 80\n",
        "%%R\n",
        "\n",
        "adultOver80DF <- subset(adult_trainingDF, age >= 80)\n",
        "\n",
        "#Contstruct a histogram of age\n",
        "hist(adultOver80DF$age)"
      ],
      "metadata": {
        "id": "rjPPjNc_ZteW",
        "colab": {
          "base_uri": "https://localhost:8080/",
          "height": 497
        },
        "outputId": "94cd6a92-f886-43f0-d341-429f4c2449fe"
      },
      "execution_count": null,
      "outputs": [
        {
          "output_type": "display_data",
          "data": {
            "image/png": "[encoded data removed]"
          },
          "metadata": {}
        }
      ]
    },
    {
      "cell_type": "markdown",
      "source": [
        "It appears that the majority of people 80 years and older are either close to 80 or 90 years old, with only a few individuals being in their mid-80s."
      ],
      "metadata": {
        "id": "Cz2qxtAYbZd2"
      }
    },
    {
      "cell_type": "markdown",
      "source": [
        "From the cross tabulation of workclass and sex, we found that the job status with the highest amount of individuals for both sexes was private. The marriage status for the highest number of males was married with a civil spouse and females was never married. This fact did not change when only looking at adults over 40 years old."
      ],
      "metadata": {
        "id": "l5qKwg4NFE3v"
      }
    }
  ]
}
