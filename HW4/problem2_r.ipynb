{
  "nbformat": 4,
  "nbformat_minor": 0,
  "metadata": {
    "colab": {
      "name": "problem2_r.ipynb",
      "provenance": [],
      "authorship_tag": "ABX9TyNvC+XHe6mFVVDFJxynrhwT",
      "include_colab_link": true
    },
    "kernelspec": {
      "name": "python3",
      "display_name": "Python 3"
    },
    "language_info": {
      "name": "python"
    }
  },
  "cells": [
    {
      "cell_type": "markdown",
      "metadata": {
        "id": "view-in-github",
        "colab_type": "text"
      },
      "source": [
        "<a href=\"https://colab.research.google.com/github/kgazaleh/thwnd_2000-IDS/blob/main/problem2_r.ipynb\" target=\"_parent\"><img src=\"https://colab.research.google.com/assets/colab-badge.svg\" alt=\"Open In Colab\"/></a>"
      ]
    },
    {
      "cell_type": "markdown",
      "source": [
        "Use the following nutrition dataset: https://github.com/bforoura/IDS/blob/main/HW4/nutrition_subset.csv"
      ],
      "metadata": {
        "id": "pu63cxMtsrWx"
      }
    },
    {
      "cell_type": "code",
      "source": [
        "%load_ext rpy2.ipython"
      ],
      "metadata": {
        "colab": {
          "base_uri": "https://localhost:8080/"
        },
        "id": "FJIXethtt00w",
        "outputId": "cb696f62-7d47-46e7-d984-10e88c609626"
      },
      "execution_count": null,
      "outputs": [
        {
          "output_type": "stream",
          "name": "stdout",
          "text": [
            "The rpy2.ipython extension is already loaded. To reload it, use:\n",
            "  %reload_ext rpy2.ipython\n"
          ]
        }
      ]
    },
    {
      "cell_type": "code",
      "source": [
        "#Let's read in the data file\n",
        "%%R\n",
        "\n",
        "library(readr)\n",
        "nutrition <- read_csv(\"https://raw.githubusercontent.com/bforoura/IDS/main/HW4/nutrition_subset.csv\", show_col_types = FALSE)\n",
        "nutrition"
      ],
      "metadata": {
        "colab": {
          "base_uri": "https://localhost:8080/"
        },
        "id": "dkWSQCgktUlq",
        "outputId": "36e2c6cd-4010-4693-a6bf-fe508f28b584"
      },
      "execution_count": null,
      "outputs": [
        {
          "output_type": "stream",
          "name": "stdout",
          "text": [
            "# A tibble: 961 × 4\n",
            "   `food item`                         weight_in_grams saturated_fat cholesterol\n",
            "   <chr>                                         <dbl>         <dbl>       <dbl>\n",
            " 1 GELATIN; DRY                  1 EN…             7             0             0\n",
            " 2 SEAWEED; SPIRULINA; DRIED     1 OZ             28.4           0.8           0\n",
            " 3 YEAST; BAKERS; DRY; ACTIVE    1 PKG             7             0             0\n",
            " 4 PARMESAN CHEESE; GRATED       1 OZ             28.4           5.4          22\n",
            " 5 PARMESAN CHEESE; GRATED       1 CUP           100            19.1          79\n",
            " 6 PARMESAN CHEESE; GRATED       1 TB…             5             1             4\n",
            " 7 YEAST; BREWERS; DRY           1 TB…             8             0             0\n",
            " 8 LAMB;CHOPS;ARM;BRAISED;LEAN   1.7 …            48             2.9          59\n",
            " 9 TUNA; CANND; DRND;WATR; WHITE 3 OZ             85             0.3          48\n",
            "10 NONFAT DRY MILK; INSTANTIZED  1 CUP            68             0.3          12\n",
            "# … with 951 more rows\n"
          ]
        }
      ]
    },
    {
      "cell_type": "markdown",
      "source": [
        "The elements in the data set are food items of various sizes, ranging from a teaspoon of cinnamon to an entire carrot cake.\n"
      ],
      "metadata": {
        "id": "s8UiE57msu2P"
      }
    },
    {
      "cell_type": "markdown",
      "source": [
        "Sort the data set by saturated_ fat and produce a listing of the five food items highest in saturated fat. Comment on the validity of comparing food items of different sizes.\n"
      ],
      "metadata": {
        "id": "d7Y1ewr4svR4"
      }
    },
    {
      "cell_type": "code",
      "source": [
        "#Sort the data set by saturated_fat and produce a listing of the five food items highest in saturated fat\n",
        "%%R\n",
        "\n",
        "head(nutrition[order(nutrition$saturated_fat, \n",
        "                    decreasing = TRUE),\n",
        "                ], 5)"
      ],
      "metadata": {
        "colab": {
          "base_uri": "https://localhost:8080/"
        },
        "id": "Wce6dDB4swqA",
        "outputId": "0bd3a590-8074-471c-af3d-b5d7507bdd08"
      },
      "execution_count": null,
      "outputs": [
        {
          "output_type": "stream",
          "name": "stdout",
          "text": [
            "# A tibble: 5 × 4\n",
            "  `food item`                          weight_in_grams saturated_fat cholesterol\n",
            "  <chr>                                          <dbl>         <dbl>       <dbl>\n",
            "1 CHEESECAKE                    1 CAKE            1110         120.         2053\n",
            "2 ICE CREAM; VANLLA; RICH 16% FT1/2 G…            1188         118.          703\n",
            "3 YELLOWCAKE W/ CHOCFRSTNG;COMML1 CAKE            1108          92           609\n",
            "4 CREME PIE                     1 PIE              910          90.1          46\n",
            "5 LARD                          1 CUP              205          80.4         195\n"
          ]
        }
      ]
    },
    {
      "cell_type": "markdown",
      "source": [
        "Food items of larger size are likely to have more saturated fat than smaller food items, so it would make more sense to compare items by saturated fat per gram."
      ],
      "metadata": {
        "id": "tRxGRUECxP8F"
      }
    },
    {
      "cell_type": "markdown",
      "source": [
        "Create a new variable, saturated_ fat_ per_gram, by dividing the amount of saturated fat  by the weight in grams. Sort the data set by saturated_ fat_ per_gram and produce a listing of the five food  items highest in saturated fat per gram. Which food has the most saturated fat per gram?\n"
      ],
      "metadata": {
        "id": "ICi0Kp7nsxpU"
      }
    },
    {
      "cell_type": "code",
      "source": [
        "#Create new variable saturated_fat_per_gram\n",
        "%%R\n",
        "\n",
        "n <- dim(nutrition)\n",
        "saturated_fat_per_gram = c(nutrition$saturated_fat / nutrition$weight_in_grams)\n",
        "\n",
        "nutrition <- cbind(nutrition, saturated_fat_per_gram)\n",
        "\n",
        "head(nutrition)"
      ],
      "metadata": {
        "colab": {
          "base_uri": "https://localhost:8080/"
        },
        "id": "CeHknt80sz6z",
        "outputId": "578badbb-4fcb-4c43-a1e1-6bd7ef2373ee"
      },
      "execution_count": null,
      "outputs": [
        {
          "output_type": "stream",
          "name": "stdout",
          "text": [
            "                               food item weight_in_grams saturated_fat\n",
            "1 GELATIN; DRY                  1 ENVELP            7.00           0.0\n",
            "2     SEAWEED; SPIRULINA; DRIED     1 OZ           28.35           0.8\n",
            "3    YEAST; BAKERS; DRY; ACTIVE    1 PKG            7.00           0.0\n",
            "4     PARMESAN CHEESE; GRATED       1 OZ           28.35           5.4\n",
            "5    PARMESAN CHEESE; GRATED       1 CUP          100.00          19.1\n",
            "6   PARMESAN CHEESE; GRATED       1 TBSP            5.00           1.0\n",
            "  cholesterol saturated_fat_per_gram\n",
            "1           0             0.00000000\n",
            "2           0             0.02821869\n",
            "3           0             0.00000000\n",
            "4          22             0.19047619\n",
            "5          79             0.19100000\n",
            "6           4             0.20000000\n"
          ]
        }
      ]
    },
    {
      "cell_type": "code",
      "source": [
        "#Sort data by saturated_fat_per_gram and produce list of 5 food items highest in saturated fat per gram\n",
        "%%R\n",
        "\n",
        "head(nutrition[order(nutrition$saturated_fat_per_gram, \n",
        "                    decreasing = TRUE),\n",
        "                ], 5)"
      ],
      "metadata": {
        "colab": {
          "base_uri": "https://localhost:8080/"
        },
        "id": "tirN1wpLzTpD",
        "outputId": "1963ed34-1af5-4859-b3c3-b64787418ed4"
      },
      "execution_count": null,
      "outputs": [
        {
          "output_type": "stream",
          "name": "stdout",
          "text": [
            "                                food item weight_in_grams saturated_fat\n",
            "909  BUTTER; SALTED                1 TBSP              14           7.1\n",
            "910  BUTTER; UNSALTED              1 TBSP              14           7.1\n",
            "710 BUTTER; SALTED                1/2 CUP             113          57.1\n",
            "711 BUTTER; UNSALTED              1/2 CUP             113          57.1\n",
            "913   BUTTER; SALTED                1 PAT               5           2.5\n",
            "    cholesterol saturated_fat_per_gram\n",
            "909          31              0.5071429\n",
            "910          31              0.5071429\n",
            "710         247              0.5053097\n",
            "711         247              0.5053097\n",
            "913          11              0.5000000\n"
          ]
        }
      ]
    },
    {
      "cell_type": "markdown",
      "source": [
        "Butter has the highest saturated fat per gram."
      ],
      "metadata": {
        "id": "sME8lxzYzg_o"
      }
    },
    {
      "cell_type": "markdown",
      "source": [
        "Standardize (zero mean) the field saturated_ fat_ per_gram, and produce a listing of all the food items that are outliers at the high end of the scale. How many food items are outliers at the low end of the scale? Create a density plot for saturated_ fat_ per_gram\n"
      ],
      "metadata": {
        "id": "6htaNDVls0fQ"
      }
    },
    {
      "cell_type": "code",
      "source": [
        "#Standardize saturated_fat_per_gram\n",
        "%%R\n",
        "nutrition$scaled_fat <- scale(x = nutrition$saturated_fat_per_gram)\n",
        "\n",
        "summary(nutrition$scaled_fat)"
      ],
      "metadata": {
        "colab": {
          "base_uri": "https://localhost:8080/"
        },
        "id": "ZmueyKVhs1Aq",
        "outputId": "666c3b4b-fc88-4b26-df99-7f70082f1a4d"
      },
      "execution_count": null,
      "outputs": [
        {
          "output_type": "stream",
          "name": "stdout",
          "text": [
            "       V1         \n",
            " Min.   :-0.5620  \n",
            " 1st Qu.:-0.5620  \n",
            " Median :-0.4411  \n",
            " Mean   : 0.0000  \n",
            " 3rd Qu.: 0.1539  \n",
            " Max.   : 7.1068  \n"
          ]
        }
      ]
    },
    {
      "cell_type": "code",
      "source": [
        "#Produce a listing of all the food items that are outliers at the high end of the scale\n",
        "%%R\n",
        "#Use three sigma rule\n",
        "\n",
        "three_sigma_rule_high <- (nutrition$scaled_fat > 3 )\n",
        "\n",
        "cat(\"The scaled saturated fat per gram values that are high outliers: \\n\\n\")\n",
        "nutrition$scaled_fat[which(three_sigma_rule_high)]"
      ],
      "metadata": {
        "colab": {
          "base_uri": "https://localhost:8080/"
        },
        "id": "Yfr31pGJzzSe",
        "outputId": "c6ddada1-1927-425b-9d89-621e83e36a8a"
      },
      "execution_count": null,
      "outputs": [
        {
          "output_type": "stream",
          "name": "stdout",
          "text": [
            "The scaled saturated fat per gram values that are high outliers: \n",
            "\n",
            " [1] 4.238469 3.936637 4.202078 3.940837 7.079055 7.079055 5.368580 3.276520\n",
            " [9] 5.370282 3.222049 7.106775 7.106775 6.998763 6.998763 4.730522\n"
          ]
        }
      ]
    },
    {
      "cell_type": "code",
      "source": [
        "#How many food items are outliers at the low end of the scale\n",
        "%%R\n",
        "\n",
        "three_sigma_rule_low <- (nutrition$scaled_fat < 3 )\n",
        "\n",
        "cat (\"There are\", sum(three_sigma_rule_low), \"outliers \\n\\n\")"
      ],
      "metadata": {
        "colab": {
          "base_uri": "https://localhost:8080/"
        },
        "id": "tPjLuB2s0h2P",
        "outputId": "6a904e60-3bc4-493f-8453-77382422ef1c"
      },
      "execution_count": null,
      "outputs": [
        {
          "output_type": "stream",
          "name": "stdout",
          "text": [
            "There are 946 outliers \n",
            "\n"
          ]
        }
      ]
    },
    {
      "cell_type": "code",
      "source": [
        "#Density plot\n",
        "%%R\n",
        "\n",
        "d1 <- density(nutrition$saturated_fat_per_gram) \n",
        "\n",
        "# plots the results\n",
        "plot(d1, main=\"Density of Saturated Fat per Gram\") "
      ],
      "metadata": {
        "colab": {
          "base_uri": "https://localhost:8080/",
          "height": 497
        },
        "id": "BMuvvfZQ02Km",
        "outputId": "f24d4abc-5bd6-48a3-9183-d9785ab89f90"
      },
      "execution_count": null,
      "outputs": [
        {
          "output_type": "display_data",
          "data": {
            "image/png": "[encoded data removed]"
          },
          "metadata": {}
        }
      ]
    },
    {
      "cell_type": "markdown",
      "source": [
        "Are there any missing values? If so, impute as necessary and explain your approach. \n"
      ],
      "metadata": {
        "id": "Rpu0Y5CWs2fM"
      }
    },
    {
      "cell_type": "code",
      "source": [
        "#Are there any mising values?\n",
        "%%R\n",
        "sum(is.na(nutrition))"
      ],
      "metadata": {
        "colab": {
          "base_uri": "https://localhost:8080/"
        },
        "id": "W39J3Xz2s4lK",
        "outputId": "11282910-e078-465e-8011-aed00cdfa021"
      },
      "execution_count": null,
      "outputs": [
        {
          "output_type": "stream",
          "name": "stdout",
          "text": [
            "[1] 0\n"
          ]
        }
      ]
    },
    {
      "cell_type": "markdown",
      "source": [
        "Standardize (zero mean) the numeric variables, and determine if there are any outliers. \n"
      ],
      "metadata": {
        "id": "CjRpuun0s7SY"
      }
    },
    {
      "cell_type": "code",
      "source": [
        "#Standardize weight\n",
        "%%R\n",
        "\n",
        "nutrition$scaled_weight <- scale(x = nutrition$weight_in_grams)\n",
        "\n",
        "summary(nutrition$weight)"
      ],
      "metadata": {
        "colab": {
          "base_uri": "https://localhost:8080/"
        },
        "id": "J-_cFrMIs6c-",
        "outputId": "54898471-dc3a-42e3-ded4-6d1e09191a82"
      },
      "execution_count": null,
      "outputs": [
        {
          "output_type": "stream",
          "name": "stdout",
          "text": [
            "   Min. 1st Qu.  Median    Mean 3rd Qu.    Max. \n",
            "    0.4    32.0   113.0   149.4   218.0  1542.0 \n"
          ]
        }
      ]
    },
    {
      "cell_type": "code",
      "source": [
        "#Are there any outliers for weight?\n",
        "%%R\n",
        "three_sigma_rule <- (nutrition$scaled_weight < -3 | \n",
        "                     nutrition$scaled_weight > 3 )\n",
        "\n",
        "cat (\"There are\", sum(three_sigma_rule), \"outliers \\n\\n\")"
      ],
      "metadata": {
        "colab": {
          "base_uri": "https://localhost:8080/"
        },
        "id": "mI5XD7lW2QzL",
        "outputId": "1b1a3f3f-6bd1-4873-ff6f-83c8cbbe4a58"
      },
      "execution_count": null,
      "outputs": [
        {
          "output_type": "stream",
          "name": "stdout",
          "text": [
            "There are 22 outliers \n",
            "\n"
          ]
        }
      ]
    },
    {
      "cell_type": "code",
      "source": [
        "#Standardize cholesterol\n",
        "%%R\n",
        "nutrition$scaled_cholesterol <- scale(x = nutrition$cholesterol)\n",
        "\n",
        "summary(nutrition$scaled_cholesterol)"
      ],
      "metadata": {
        "colab": {
          "base_uri": "https://localhost:8080/"
        },
        "id": "nuMfy_NK1tMX",
        "outputId": "082f885f-9883-48af-9d5a-7e57d9134841"
      },
      "execution_count": null,
      "outputs": [
        {
          "output_type": "stream",
          "name": "stdout",
          "text": [
            "       V1         \n",
            " Min.   :-0.2714  \n",
            " 1st Qu.:-0.2714  \n",
            " Median :-0.2714  \n",
            " Mean   : 0.0000  \n",
            " 3rd Qu.:-0.1046  \n",
            " Max.   :16.8426  \n"
          ]
        }
      ]
    },
    {
      "cell_type": "code",
      "source": [
        "#Are there any outliers for cholesterol?\n",
        "%%R\n",
        "three_sigma_rule <- (nutrition$scaled_cholesterol < -3 | \n",
        "                     nutrition$scaled_cholesterol > 3 )\n",
        "\n",
        "cat (\"There are\", sum(three_sigma_rule), \"outliers \\n\\n\")"
      ],
      "metadata": {
        "colab": {
          "base_uri": "https://localhost:8080/"
        },
        "id": "zqPeqFx-2ifr",
        "outputId": "1e730b7e-3469-4ab3-f392-0b75fadd40fd"
      },
      "execution_count": null,
      "outputs": [
        {
          "output_type": "stream",
          "name": "stdout",
          "text": [
            "There are 17 outliers \n",
            "\n"
          ]
        }
      ]
    },
    {
      "cell_type": "markdown",
      "source": [
        "Cheesecake and vanilla ice cream are the food items with the highest saturated fat. There are 946 outliers at the low end of the scale for saturated fat per gram. There are no missing values."
      ],
      "metadata": {
        "id": "_xQDamp6s8dA"
      }
    }
  ]
}
